{
  "nbformat": 4,
  "nbformat_minor": 0,
  "metadata": {
    "colab": {
      "name": "Assignment1-Part-2.ipynb",
      "version": "0.3.2",
      "provenance": [],
      "collapsed_sections": []
    },
    "kernelspec": {
      "name": "python2",
      "display_name": "Python 2"
    }
  },
  "cells": [
    {
      "cell_type": "code",
      "metadata": {
        "id": "475qP-TaZZM_",
        "colab_type": "code",
        "colab": {}
      },
      "source": [
        "#Importing Libraries\n",
        "import pandas as pd\n",
        "import numpy as np\n",
        "\n",
        "\n",
        "import matplotlib.pyplot as plt\n",
        "import seaborn as sns"
      ],
      "execution_count": 0,
      "outputs": []
    },
    {
      "cell_type": "markdown",
      "metadata": {
        "id": "I9UR6-VCnUAP",
        "colab_type": "text"
      },
      "source": [
        "## Importing Datasets"
      ]
    },
    {
      "cell_type": "code",
      "metadata": {
        "id": "QTxdD6OiaHc8",
        "colab_type": "code",
        "colab": {}
      },
      "source": [
        "#Importing datasets from google drive \n",
        "from google.colab import drive \n",
        "drive.mount('/content/gdrive')"
      ],
      "execution_count": 0,
      "outputs": []
    },
    {
      "cell_type": "code",
      "metadata": {
        "id": "sw-pm6vpdh7F",
        "colab_type": "code",
        "colab": {}
      },
      "source": [
        "df=pd.read_csv('gdrive/My Drive/Colab Notebooks/data.csv')"
      ],
      "execution_count": 0,
      "outputs": []
    },
    {
      "cell_type": "code",
      "metadata": {
        "id": "Dzxjeli1d9sc",
        "colab_type": "code",
        "colab": {
          "base_uri": "https://localhost:8080/",
          "height": 191
        },
        "outputId": "1eba08b5-ac42-461c-88c9-17887402ae9f"
      },
      "source": [
        "df.head()"
      ],
      "execution_count": 5,
      "outputs": [
        {
          "output_type": "execute_result",
          "data": {
            "text/html": [
              "<div>\n",
              "<style scoped>\n",
              "    .dataframe tbody tr th:only-of-type {\n",
              "        vertical-align: middle;\n",
              "    }\n",
              "\n",
              "    .dataframe tbody tr th {\n",
              "        vertical-align: top;\n",
              "    }\n",
              "\n",
              "    .dataframe thead th {\n",
              "        text-align: right;\n",
              "    }\n",
              "</style>\n",
              "<table border=\"1\" class=\"dataframe\">\n",
              "  <thead>\n",
              "    <tr style=\"text-align: right;\">\n",
              "      <th></th>\n",
              "      <th>NumPreg</th>\n",
              "      <th>PlasmaGlucose</th>\n",
              "      <th>DiastolicBP</th>\n",
              "      <th>TricepSkin</th>\n",
              "      <th>BodyMassIndex</th>\n",
              "      <th>Pedigree</th>\n",
              "      <th>Age</th>\n",
              "      <th>Diabetic</th>\n",
              "    </tr>\n",
              "  </thead>\n",
              "  <tbody>\n",
              "    <tr>\n",
              "      <th>0</th>\n",
              "      <td>5</td>\n",
              "      <td>86</td>\n",
              "      <td>68</td>\n",
              "      <td>28</td>\n",
              "      <td>30.2</td>\n",
              "      <td>0.364</td>\n",
              "      <td>24</td>\n",
              "      <td>No</td>\n",
              "    </tr>\n",
              "    <tr>\n",
              "      <th>1</th>\n",
              "      <td>7</td>\n",
              "      <td>195</td>\n",
              "      <td>70</td>\n",
              "      <td>33</td>\n",
              "      <td>25.1</td>\n",
              "      <td>0.163</td>\n",
              "      <td>55</td>\n",
              "      <td>Yes</td>\n",
              "    </tr>\n",
              "    <tr>\n",
              "      <th>2</th>\n",
              "      <td>5</td>\n",
              "      <td>77</td>\n",
              "      <td>82</td>\n",
              "      <td>41</td>\n",
              "      <td>35.8</td>\n",
              "      <td>0.156</td>\n",
              "      <td>35</td>\n",
              "      <td>No</td>\n",
              "    </tr>\n",
              "    <tr>\n",
              "      <th>3</th>\n",
              "      <td>0</td>\n",
              "      <td>165</td>\n",
              "      <td>76</td>\n",
              "      <td>43</td>\n",
              "      <td>47.9</td>\n",
              "      <td>0.259</td>\n",
              "      <td>26</td>\n",
              "      <td>No</td>\n",
              "    </tr>\n",
              "    <tr>\n",
              "      <th>4</th>\n",
              "      <td>0</td>\n",
              "      <td>107</td>\n",
              "      <td>60</td>\n",
              "      <td>25</td>\n",
              "      <td>26.4</td>\n",
              "      <td>0.133</td>\n",
              "      <td>23</td>\n",
              "      <td>No</td>\n",
              "    </tr>\n",
              "  </tbody>\n",
              "</table>\n",
              "</div>"
            ],
            "text/plain": [
              "   NumPreg  PlasmaGlucose  DiastolicBP  ...  Pedigree  Age  Diabetic\n",
              "0        5             86           68  ...     0.364   24        No\n",
              "1        7            195           70  ...     0.163   55       Yes\n",
              "2        5             77           82  ...     0.156   35        No\n",
              "3        0            165           76  ...     0.259   26        No\n",
              "4        0            107           60  ...     0.133   23        No\n",
              "\n",
              "[5 rows x 8 columns]"
            ]
          },
          "metadata": {
            "tags": []
          },
          "execution_count": 5
        }
      ]
    },
    {
      "cell_type": "code",
      "metadata": {
        "id": "qR5N0xoZd_Rf",
        "colab_type": "code",
        "colab": {
          "base_uri": "https://localhost:8080/",
          "height": 33
        },
        "outputId": "d4db6b0e-ba64-4d4e-c779-18a79423b971"
      },
      "source": [
        "df.shape"
      ],
      "execution_count": 6,
      "outputs": [
        {
          "output_type": "execute_result",
          "data": {
            "text/plain": [
              "(200, 8)"
            ]
          },
          "metadata": {
            "tags": []
          },
          "execution_count": 6
        }
      ]
    },
    {
      "cell_type": "code",
      "metadata": {
        "id": "70GsytaWeRDq",
        "colab_type": "code",
        "colab": {
          "base_uri": "https://localhost:8080/",
          "height": 163
        },
        "outputId": "2e0e76f4-a1d0-4ba8-f522-a27ba042371a"
      },
      "source": [
        "# check for missing values\n",
        "df.isna().sum()"
      ],
      "execution_count": 7,
      "outputs": [
        {
          "output_type": "execute_result",
          "data": {
            "text/plain": [
              "NumPreg          0\n",
              "PlasmaGlucose    0\n",
              "DiastolicBP      0\n",
              "TricepSkin       0\n",
              "BodyMassIndex    0\n",
              "Pedigree         0\n",
              "Age              0\n",
              "Diabetic         0\n",
              "dtype: int64"
            ]
          },
          "metadata": {
            "tags": []
          },
          "execution_count": 7
        }
      ]
    },
    {
      "cell_type": "code",
      "metadata": {
        "id": "tW2Khqu9ebza",
        "colab_type": "code",
        "colab": {
          "base_uri": "https://localhost:8080/",
          "height": 163
        },
        "outputId": "cb43be67-3780-44f7-a0e7-a86063323024"
      },
      "source": [
        "# check the type of the datas\n",
        "df.dtypes"
      ],
      "execution_count": 8,
      "outputs": [
        {
          "output_type": "execute_result",
          "data": {
            "text/plain": [
              "NumPreg            int64\n",
              "PlasmaGlucose      int64\n",
              "DiastolicBP        int64\n",
              "TricepSkin         int64\n",
              "BodyMassIndex    float64\n",
              "Pedigree         float64\n",
              "Age                int64\n",
              "Diabetic          object\n",
              "dtype: object"
            ]
          },
          "metadata": {
            "tags": []
          },
          "execution_count": 8
        }
      ]
    },
    {
      "cell_type": "code",
      "metadata": {
        "id": "Krp-YGLfeg3q",
        "colab_type": "code",
        "colab": {
          "base_uri": "https://localhost:8080/",
          "height": 82
        },
        "outputId": "246ec8f9-8559-4233-a2ae-dda63be0a9ae"
      },
      "source": [
        "# check for occurence of class\n",
        "df.groupby('Diabetic').size()"
      ],
      "execution_count": 10,
      "outputs": [
        {
          "output_type": "execute_result",
          "data": {
            "text/plain": [
              "Diabetic\n",
              "No     132\n",
              "Yes     68\n",
              "dtype: int64"
            ]
          },
          "metadata": {
            "tags": []
          },
          "execution_count": 10
        }
      ]
    },
    {
      "cell_type": "markdown",
      "metadata": {
        "id": "LDjoEO0Gnclb",
        "colab_type": "text"
      },
      "source": [
        "## Visualizing the Datasets"
      ]
    },
    {
      "cell_type": "code",
      "metadata": {
        "id": "cOrNCA2HeqTK",
        "colab_type": "code",
        "colab": {
          "base_uri": "https://localhost:8080/",
          "height": 306
        },
        "outputId": "2864e15d-b768-4a76-9860-94e158958f14"
      },
      "source": [
        "# plot the groups\n",
        "df.groupby('Diabetic').size().plot(kind=\"bar\")"
      ],
      "execution_count": 11,
      "outputs": [
        {
          "output_type": "execute_result",
          "data": {
            "text/plain": [
              "<matplotlib.axes._subplots.AxesSubplot at 0x7f0dad29bd10>"
            ]
          },
          "metadata": {
            "tags": []
          },
          "execution_count": 11
        },
        {
          "output_type": "display_data",
          "data": {
            "image/png": "[encoded data removed]",
            "text/plain": [
              "<Figure size 432x288 with 1 Axes>"
            ]
          },
          "metadata": {
            "tags": []
          }
        }
      ]
    },
    {
      "cell_type": "code",
      "metadata": {
        "id": "MBJY7LlvezKN",
        "colab_type": "code",
        "colab": {
          "base_uri": "https://localhost:8080/",
          "height": 353
        },
        "outputId": "71fa940e-8414-48aa-b060-2822f8293484"
      },
      "source": [
        "# check for correlation between input_data and labesl/outcomes\n",
        "corr = df.corr()\n",
        "\n",
        "# plot a heatmap\n",
        "sns.heatmap(corr, annot=True)"
      ],
      "execution_count": 13,
      "outputs": [
        {
          "output_type": "execute_result",
          "data": {
            "text/plain": [
              "<matplotlib.axes._subplots.AxesSubplot at 0x7f0da0c069d0>"
            ]
          },
          "metadata": {
            "tags": []
          },
          "execution_count": 13
        },
        {
          "output_type": "display_data",
          "data": {
            "image/png": "[encoded data removed]",
            "text/plain": [
              "<Figure size 432x288 with 2 Axes>"
            ]
          },
          "metadata": {
            "tags": []
          }
        }
      ]
    },
    {
      "cell_type": "code",
      "metadata": {
        "id": "EkcWAUccfMuf",
        "colab_type": "code",
        "colab": {
          "base_uri": "https://localhost:8080/",
          "height": 880
        },
        "outputId": "4eda9ab6-4da5-4acb-cc6e-13d8f9e76303"
      },
      "source": [
        "# Data viz for entire datasets\n",
        "df.hist(bins=50, figsize=(20, 15))\n",
        "plt.show()"
      ],
      "execution_count": 14,
      "outputs": [
        {
          "output_type": "display_data",
          "data": {
            "image/png": "[encoded data removed]",
            "text/plain": [
              "<Figure size 1440x1080 with 9 Axes>"
            ]
          },
          "metadata": {
            "tags": []
          }
        }
      ]
    },
    {
      "cell_type": "markdown",
      "metadata": {
        "id": "d_Uk6Cm8nkMS",
        "colab_type": "text"
      },
      "source": [
        "## Datasets Statistics\n"
      ]
    },
    {
      "cell_type": "code",
      "metadata": {
        "id": "ElAdNQdlfvvN",
        "colab_type": "code",
        "colab": {
          "base_uri": "https://localhost:8080/",
          "height": 248
        },
        "outputId": "46fe563e-ef46-4487-bf67-a384cc88af2b"
      },
      "source": [
        "# Descriptive analysis Transpose\n",
        "df.describe().T"
      ],
      "execution_count": 15,
      "outputs": [
        {
          "output_type": "execute_result",
          "data": {
            "text/html": [
              "<div>\n",
              "<style scoped>\n",
              "    .dataframe tbody tr th:only-of-type {\n",
              "        vertical-align: middle;\n",
              "    }\n",
              "\n",
              "    .dataframe tbody tr th {\n",
              "        vertical-align: top;\n",
              "    }\n",
              "\n",
              "    .dataframe thead th {\n",
              "        text-align: right;\n",
              "    }\n",
              "</style>\n",
              "<table border=\"1\" class=\"dataframe\">\n",
              "  <thead>\n",
              "    <tr style=\"text-align: right;\">\n",
              "      <th></th>\n",
              "      <th>count</th>\n",
              "      <th>mean</th>\n",
              "      <th>std</th>\n",
              "      <th>min</th>\n",
              "      <th>25%</th>\n",
              "      <th>50%</th>\n",
              "      <th>75%</th>\n",
              "      <th>max</th>\n",
              "    </tr>\n",
              "  </thead>\n",
              "  <tbody>\n",
              "    <tr>\n",
              "      <th>NumPreg</th>\n",
              "      <td>200.0</td>\n",
              "      <td>3.570000</td>\n",
              "      <td>3.366268</td>\n",
              "      <td>0.000</td>\n",
              "      <td>1.0000</td>\n",
              "      <td>2.0000</td>\n",
              "      <td>6.000</td>\n",
              "      <td>14.000</td>\n",
              "    </tr>\n",
              "    <tr>\n",
              "      <th>PlasmaGlucose</th>\n",
              "      <td>200.0</td>\n",
              "      <td>123.970000</td>\n",
              "      <td>31.667225</td>\n",
              "      <td>56.000</td>\n",
              "      <td>100.0000</td>\n",
              "      <td>120.5000</td>\n",
              "      <td>144.000</td>\n",
              "      <td>199.000</td>\n",
              "    </tr>\n",
              "    <tr>\n",
              "      <th>DiastolicBP</th>\n",
              "      <td>200.0</td>\n",
              "      <td>71.260000</td>\n",
              "      <td>11.479604</td>\n",
              "      <td>38.000</td>\n",
              "      <td>64.0000</td>\n",
              "      <td>70.0000</td>\n",
              "      <td>78.000</td>\n",
              "      <td>110.000</td>\n",
              "    </tr>\n",
              "    <tr>\n",
              "      <th>TricepSkin</th>\n",
              "      <td>200.0</td>\n",
              "      <td>29.215000</td>\n",
              "      <td>11.724594</td>\n",
              "      <td>7.000</td>\n",
              "      <td>20.7500</td>\n",
              "      <td>29.0000</td>\n",
              "      <td>36.000</td>\n",
              "      <td>99.000</td>\n",
              "    </tr>\n",
              "    <tr>\n",
              "      <th>BodyMassIndex</th>\n",
              "      <td>200.0</td>\n",
              "      <td>32.310000</td>\n",
              "      <td>6.130212</td>\n",
              "      <td>18.200</td>\n",
              "      <td>27.5750</td>\n",
              "      <td>32.8000</td>\n",
              "      <td>36.500</td>\n",
              "      <td>47.900</td>\n",
              "    </tr>\n",
              "    <tr>\n",
              "      <th>Pedigree</th>\n",
              "      <td>200.0</td>\n",
              "      <td>0.460765</td>\n",
              "      <td>0.307225</td>\n",
              "      <td>0.085</td>\n",
              "      <td>0.2535</td>\n",
              "      <td>0.3725</td>\n",
              "      <td>0.616</td>\n",
              "      <td>2.288</td>\n",
              "    </tr>\n",
              "    <tr>\n",
              "      <th>Age</th>\n",
              "      <td>200.0</td>\n",
              "      <td>32.110000</td>\n",
              "      <td>10.975436</td>\n",
              "      <td>21.000</td>\n",
              "      <td>23.0000</td>\n",
              "      <td>28.0000</td>\n",
              "      <td>39.250</td>\n",
              "      <td>63.000</td>\n",
              "    </tr>\n",
              "  </tbody>\n",
              "</table>\n",
              "</div>"
            ],
            "text/plain": [
              "               count        mean        std  ...       50%      75%      max\n",
              "NumPreg        200.0    3.570000   3.366268  ...    2.0000    6.000   14.000\n",
              "PlasmaGlucose  200.0  123.970000  31.667225  ...  120.5000  144.000  199.000\n",
              "DiastolicBP    200.0   71.260000  11.479604  ...   70.0000   78.000  110.000\n",
              "TricepSkin     200.0   29.215000  11.724594  ...   29.0000   36.000   99.000\n",
              "BodyMassIndex  200.0   32.310000   6.130212  ...   32.8000   36.500   47.900\n",
              "Pedigree       200.0    0.460765   0.307225  ...    0.3725    0.616    2.288\n",
              "Age            200.0   32.110000  10.975436  ...   28.0000   39.250   63.000\n",
              "\n",
              "[7 rows x 8 columns]"
            ]
          },
          "metadata": {
            "tags": []
          },
          "execution_count": 15
        }
      ]
    },
    {
      "cell_type": "code",
      "metadata": {
        "id": "sNMxFVCZgsiH",
        "colab_type": "code",
        "colab": {
          "base_uri": "https://localhost:8080/",
          "height": 33
        },
        "outputId": "106db3d8-24d6-471b-eb9e-b8c6a5b50c84"
      },
      "source": [
        "df['DiastolicBP'].min()"
      ],
      "execution_count": 16,
      "outputs": [
        {
          "output_type": "execute_result",
          "data": {
            "text/plain": [
              "38"
            ]
          },
          "metadata": {
            "tags": []
          },
          "execution_count": 16
        }
      ]
    },
    {
      "cell_type": "code",
      "metadata": {
        "id": "8Odj1953hqBe",
        "colab_type": "code",
        "colab": {
          "base_uri": "https://localhost:8080/",
          "height": 66
        },
        "outputId": "5d2a40be-7b45-41c8-9c44-01418ded4cdf"
      },
      "source": [
        "df.columns"
      ],
      "execution_count": 17,
      "outputs": [
        {
          "output_type": "execute_result",
          "data": {
            "text/plain": [
              "Index([u'NumPreg', u'PlasmaGlucose', u'DiastolicBP', u'TricepSkin',\n",
              "       u'BodyMassIndex', u'Pedigree', u'Age', u'Diabetic'],\n",
              "      dtype='object')"
            ]
          },
          "metadata": {
            "tags": []
          },
          "execution_count": 17
        }
      ]
    },
    {
      "cell_type": "code",
      "metadata": {
        "id": "lXW5zrnhiFYq",
        "colab_type": "code",
        "colab": {}
      },
      "source": [
        "# separate the Input data\n",
        "X = df.iloc[:, 0:7]"
      ],
      "execution_count": 0,
      "outputs": []
    },
    {
      "cell_type": "code",
      "metadata": {
        "id": "QZpcHAVWlfR3",
        "colab_type": "code",
        "colab": {
          "base_uri": "https://localhost:8080/",
          "height": 191
        },
        "outputId": "1d4422ba-5f97-4711-b9a2-dc31062a1520"
      },
      "source": [
        "X.head()"
      ],
      "execution_count": 21,
      "outputs": [
        {
          "output_type": "execute_result",
          "data": {
            "text/html": [
              "<div>\n",
              "<style scoped>\n",
              "    .dataframe tbody tr th:only-of-type {\n",
              "        vertical-align: middle;\n",
              "    }\n",
              "\n",
              "    .dataframe tbody tr th {\n",
              "        vertical-align: top;\n",
              "    }\n",
              "\n",
              "    .dataframe thead th {\n",
              "        text-align: right;\n",
              "    }\n",
              "</style>\n",
              "<table border=\"1\" class=\"dataframe\">\n",
              "  <thead>\n",
              "    <tr style=\"text-align: right;\">\n",
              "      <th></th>\n",
              "      <th>NumPreg</th>\n",
              "      <th>PlasmaGlucose</th>\n",
              "      <th>DiastolicBP</th>\n",
              "      <th>TricepSkin</th>\n",
              "      <th>BodyMassIndex</th>\n",
              "      <th>Pedigree</th>\n",
              "      <th>Age</th>\n",
              "    </tr>\n",
              "  </thead>\n",
              "  <tbody>\n",
              "    <tr>\n",
              "      <th>0</th>\n",
              "      <td>5</td>\n",
              "      <td>86</td>\n",
              "      <td>68</td>\n",
              "      <td>28</td>\n",
              "      <td>30.2</td>\n",
              "      <td>0.364</td>\n",
              "      <td>24</td>\n",
              "    </tr>\n",
              "    <tr>\n",
              "      <th>1</th>\n",
              "      <td>7</td>\n",
              "      <td>195</td>\n",
              "      <td>70</td>\n",
              "      <td>33</td>\n",
              "      <td>25.1</td>\n",
              "      <td>0.163</td>\n",
              "      <td>55</td>\n",
              "    </tr>\n",
              "    <tr>\n",
              "      <th>2</th>\n",
              "      <td>5</td>\n",
              "      <td>77</td>\n",
              "      <td>82</td>\n",
              "      <td>41</td>\n",
              "      <td>35.8</td>\n",
              "      <td>0.156</td>\n",
              "      <td>35</td>\n",
              "    </tr>\n",
              "    <tr>\n",
              "      <th>3</th>\n",
              "      <td>0</td>\n",
              "      <td>165</td>\n",
              "      <td>76</td>\n",
              "      <td>43</td>\n",
              "      <td>47.9</td>\n",
              "      <td>0.259</td>\n",
              "      <td>26</td>\n",
              "    </tr>\n",
              "    <tr>\n",
              "      <th>4</th>\n",
              "      <td>0</td>\n",
              "      <td>107</td>\n",
              "      <td>60</td>\n",
              "      <td>25</td>\n",
              "      <td>26.4</td>\n",
              "      <td>0.133</td>\n",
              "      <td>23</td>\n",
              "    </tr>\n",
              "  </tbody>\n",
              "</table>\n",
              "</div>"
            ],
            "text/plain": [
              "   NumPreg  PlasmaGlucose  DiastolicBP  ...  BodyMassIndex  Pedigree  Age\n",
              "0        5             86           68  ...           30.2     0.364   24\n",
              "1        7            195           70  ...           25.1     0.163   55\n",
              "2        5             77           82  ...           35.8     0.156   35\n",
              "3        0            165           76  ...           47.9     0.259   26\n",
              "4        0            107           60  ...           26.4     0.133   23\n",
              "\n",
              "[5 rows x 7 columns]"
            ]
          },
          "metadata": {
            "tags": []
          },
          "execution_count": 21
        }
      ]
    },
    {
      "cell_type": "code",
      "metadata": {
        "id": "Adpe2MOLlkSA",
        "colab_type": "code",
        "colab": {}
      },
      "source": [
        "# sepate the labels\n",
        "Y = df['Diabetic']"
      ],
      "execution_count": 0,
      "outputs": []
    },
    {
      "cell_type": "markdown",
      "metadata": {
        "id": "THB-OuRknqxX",
        "colab_type": "text"
      },
      "source": [
        "## Scaling the Datasets"
      ]
    },
    {
      "cell_type": "code",
      "metadata": {
        "id": "8xJ1RxvFlzA9",
        "colab_type": "code",
        "colab": {
          "base_uri": "https://localhost:8080/",
          "height": 50
        },
        "outputId": "f486e848-9967-4fd1-e1f2-ba711a5b3762"
      },
      "source": [
        "# scale the dataset\n",
        "from sklearn.preprocessing import MinMaxScaler as Scaler\n",
        "scaler = Scaler()\n",
        "X = scaler.fit_transform(X)"
      ],
      "execution_count": 24,
      "outputs": [
        {
          "output_type": "stream",
          "text": [
            "/usr/local/lib/python2.7/dist-packages/sklearn/preprocessing/data.py:334: DataConversionWarning: Data with input dtype int64, float64 were all converted to float64 by MinMaxScaler.\n",
            "  return self.partial_fit(X, y)\n"
          ],
          "name": "stderr"
        }
      ]
    },
    {
      "cell_type": "code",
      "metadata": {
        "id": "zd2-Jo2Ml5GN",
        "colab_type": "code",
        "colab": {
          "base_uri": "https://localhost:8080/",
          "height": 228
        },
        "outputId": "8658c20f-0adc-4fe6-fef6-690fee794624"
      },
      "source": [
        "X"
      ],
      "execution_count": 26,
      "outputs": [
        {
          "output_type": "execute_result",
          "data": {
            "text/plain": [
              "array([[0.35714286, 0.20979021, 0.41666667, ..., 0.4040404 , 0.12664548,\n",
              "        0.07142857],\n",
              "       [0.5       , 0.97202797, 0.44444444, ..., 0.23232323, 0.03540626,\n",
              "        0.80952381],\n",
              "       [0.35714286, 0.14685315, 0.61111111, ..., 0.59259259, 0.03222878,\n",
              "        0.33333333],\n",
              "       ...,\n",
              "       [0.        , 0.34965035, 0.44444444, ..., 0.71380471, 0.23604176,\n",
              "        0.02380952],\n",
              "       [0.07142857, 0.43356643, 0.27777778, ..., 0.50841751, 0.07989106,\n",
              "        0.04761905],\n",
              "       [0.57142857, 0.69230769, 0.33333333, ..., 0.53198653, 0.20789832,\n",
              "        0.5952381 ]])"
            ]
          },
          "metadata": {
            "tags": []
          },
          "execution_count": 26
        }
      ]
    },
    {
      "cell_type": "code",
      "metadata": {
        "id": "0hm-jljgmEkg",
        "colab_type": "code",
        "colab": {}
      },
      "source": [
        "col_names = [\"NumPreg\",\"PlasmaGlucose\", \"DiastolicBP\", \"TricepSkin\", \"BodyMassIndex\" ,\"Pedigree\", \"Age\"]"
      ],
      "execution_count": 0,
      "outputs": []
    },
    {
      "cell_type": "code",
      "metadata": {
        "id": "rfW_Enqbmi2W",
        "colab_type": "code",
        "colab": {}
      },
      "source": [
        "#Converted into Dataframe\n",
        "X = pd.DataFrame(X, columns=col_names)"
      ],
      "execution_count": 0,
      "outputs": []
    },
    {
      "cell_type": "code",
      "metadata": {
        "id": "D5L6r6iUmvnT",
        "colab_type": "code",
        "colab": {
          "base_uri": "https://localhost:8080/",
          "height": 191
        },
        "outputId": "b12444ee-d8b7-4bfa-e854-9b33f27fdf8e"
      },
      "source": [
        "X.head()"
      ],
      "execution_count": 32,
      "outputs": [
        {
          "output_type": "execute_result",
          "data": {
            "text/html": [
              "<div>\n",
              "<style scoped>\n",
              "    .dataframe tbody tr th:only-of-type {\n",
              "        vertical-align: middle;\n",
              "    }\n",
              "\n",
              "    .dataframe tbody tr th {\n",
              "        vertical-align: top;\n",
              "    }\n",
              "\n",
              "    .dataframe thead th {\n",
              "        text-align: right;\n",
              "    }\n",
              "</style>\n",
              "<table border=\"1\" class=\"dataframe\">\n",
              "  <thead>\n",
              "    <tr style=\"text-align: right;\">\n",
              "      <th></th>\n",
              "      <th>NumPreg</th>\n",
              "      <th>PlasmaGlucose</th>\n",
              "      <th>DiastolicBP</th>\n",
              "      <th>TricepSkin</th>\n",
              "      <th>BodyMassIndex</th>\n",
              "      <th>Pedigree</th>\n",
              "      <th>Age</th>\n",
              "    </tr>\n",
              "  </thead>\n",
              "  <tbody>\n",
              "    <tr>\n",
              "      <th>0</th>\n",
              "      <td>0.357143</td>\n",
              "      <td>0.209790</td>\n",
              "      <td>0.416667</td>\n",
              "      <td>0.228261</td>\n",
              "      <td>0.404040</td>\n",
              "      <td>0.126645</td>\n",
              "      <td>0.071429</td>\n",
              "    </tr>\n",
              "    <tr>\n",
              "      <th>1</th>\n",
              "      <td>0.500000</td>\n",
              "      <td>0.972028</td>\n",
              "      <td>0.444444</td>\n",
              "      <td>0.282609</td>\n",
              "      <td>0.232323</td>\n",
              "      <td>0.035406</td>\n",
              "      <td>0.809524</td>\n",
              "    </tr>\n",
              "    <tr>\n",
              "      <th>2</th>\n",
              "      <td>0.357143</td>\n",
              "      <td>0.146853</td>\n",
              "      <td>0.611111</td>\n",
              "      <td>0.369565</td>\n",
              "      <td>0.592593</td>\n",
              "      <td>0.032229</td>\n",
              "      <td>0.333333</td>\n",
              "    </tr>\n",
              "    <tr>\n",
              "      <th>3</th>\n",
              "      <td>0.000000</td>\n",
              "      <td>0.762238</td>\n",
              "      <td>0.527778</td>\n",
              "      <td>0.391304</td>\n",
              "      <td>1.000000</td>\n",
              "      <td>0.078983</td>\n",
              "      <td>0.119048</td>\n",
              "    </tr>\n",
              "    <tr>\n",
              "      <th>4</th>\n",
              "      <td>0.000000</td>\n",
              "      <td>0.356643</td>\n",
              "      <td>0.305556</td>\n",
              "      <td>0.195652</td>\n",
              "      <td>0.276094</td>\n",
              "      <td>0.021788</td>\n",
              "      <td>0.047619</td>\n",
              "    </tr>\n",
              "  </tbody>\n",
              "</table>\n",
              "</div>"
            ],
            "text/plain": [
              "    NumPreg  PlasmaGlucose  DiastolicBP  ...  BodyMassIndex  Pedigree       Age\n",
              "0  0.357143       0.209790     0.416667  ...       0.404040  0.126645  0.071429\n",
              "1  0.500000       0.972028     0.444444  ...       0.232323  0.035406  0.809524\n",
              "2  0.357143       0.146853     0.611111  ...       0.592593  0.032229  0.333333\n",
              "3  0.000000       0.762238     0.527778  ...       1.000000  0.078983  0.119048\n",
              "4  0.000000       0.356643     0.305556  ...       0.276094  0.021788  0.047619\n",
              "\n",
              "[5 rows x 7 columns]"
            ]
          },
          "metadata": {
            "tags": []
          },
          "execution_count": 32
        }
      ]
    },
    {
      "cell_type": "markdown",
      "metadata": {
        "id": "gwa223khnv0K",
        "colab_type": "text"
      },
      "source": [
        "## Splitting the Datasets"
      ]
    },
    {
      "cell_type": "code",
      "metadata": {
        "id": "eEv32A2lmw8l",
        "colab_type": "code",
        "colab": {}
      },
      "source": [
        "# splitting data\n",
        "from sklearn.model_selection import train_test_split\n",
        "X_train, X_test, y_train, y_test = train_test_split(X, Y, test_size=0.2, random_state=63)"
      ],
      "execution_count": 0,
      "outputs": []
    },
    {
      "cell_type": "code",
      "metadata": {
        "id": "MKj1cAlQoov0",
        "colab_type": "code",
        "colab": {
          "base_uri": "https://localhost:8080/",
          "height": 33
        },
        "outputId": "dffabea9-4581-409c-965a-2474b8e00f7c"
      },
      "source": [
        "#Check the splitted shape\n",
        "X_train.shape, X_test.shape, y_train.shape, y_test.shape"
      ],
      "execution_count": 90,
      "outputs": [
        {
          "output_type": "execute_result",
          "data": {
            "text/plain": [
              "((160, 7), (40, 7), (160,), (40,))"
            ]
          },
          "metadata": {
            "tags": []
          },
          "execution_count": 90
        }
      ]
    },
    {
      "cell_type": "code",
      "metadata": {
        "id": "Bq0L29I6pCsW",
        "colab_type": "code",
        "colab": {
          "base_uri": "https://localhost:8080/",
          "height": 82
        },
        "outputId": "98f03cd8-5586-4498-c2b7-85341d528b23"
      },
      "source": [
        "from sklearn.linear_model import LogisticRegression\n",
        "log_reg = LogisticRegression(C=10)\n",
        "log_reg.fit(X_train,y_train)"
      ],
      "execution_count": 111,
      "outputs": [
        {
          "output_type": "execute_result",
          "data": {
            "text/plain": [
              "LogisticRegression(C=10, class_weight=None, dual=False, fit_intercept=True,\n",
              "          intercept_scaling=1, max_iter=100, multi_class='warn',\n",
              "          n_jobs=None, penalty='l2', random_state=None, solver='warn',\n",
              "          tol=0.0001, verbose=0, warm_start=False)"
            ]
          },
          "metadata": {
            "tags": []
          },
          "execution_count": 111
        }
      ]
    },
    {
      "cell_type": "code",
      "metadata": {
        "id": "2spgYlPmpbVI",
        "colab_type": "code",
        "colab": {
          "base_uri": "https://localhost:8080/",
          "height": 33
        },
        "outputId": "3f835a82-4836-4754-e1a5-6787c07be287"
      },
      "source": [
        "# print the score\n",
        "print(\"Accuracy Score of Logisitic Regression::\", log_reg.score(X_test, y_test))"
      ],
      "execution_count": 112,
      "outputs": [
        {
          "output_type": "stream",
          "text": [
            "('Accuracy Score of Logisitic Regression::', 0.825)\n"
          ],
          "name": "stdout"
        }
      ]
    },
    {
      "cell_type": "markdown",
      "metadata": {
        "id": "ujNnTclVqPKX",
        "colab_type": "text"
      },
      "source": [
        "### So I am getting an approx accuracy of 0.825. Since the datasets are very less that's why I am getting low values. But we can improve this model accuracy by changing some parameter values like test_size in train_test_split function and random_state values which is used for random sampling."
      ]
    },
    {
      "cell_type": "markdown",
      "metadata": {
        "id": "xixiYVbWrngs",
        "colab_type": "text"
      },
      "source": [
        "## Predicting the test values"
      ]
    },
    {
      "cell_type": "code",
      "metadata": {
        "id": "TmIZYf-9ptRT",
        "colab_type": "code",
        "colab": {}
      },
      "source": [
        "predict = log_reg.predict(X_test)"
      ],
      "execution_count": 0,
      "outputs": []
    },
    {
      "cell_type": "code",
      "metadata": {
        "id": "MwIZYdLDsbWr",
        "colab_type": "code",
        "colab": {
          "base_uri": "https://localhost:8080/",
          "height": 98
        },
        "outputId": "037ec707-ce60-40d1-ae7d-b30458bf45f9"
      },
      "source": [
        "predict"
      ],
      "execution_count": 114,
      "outputs": [
        {
          "output_type": "execute_result",
          "data": {
            "text/plain": [
              "array(['No', 'No', 'No', 'No', 'No', 'No', 'Yes', 'No', 'No', 'No', 'No',\n",
              "       'Yes', 'No', 'No', 'No', 'No', 'No', 'Yes', 'No', 'No', 'No',\n",
              "       'Yes', 'Yes', 'Yes', 'No', 'No', 'No', 'No', 'No', 'No', 'Yes',\n",
              "       'No', 'No', 'No', 'No', 'No', 'Yes', 'No', 'Yes', 'No'],\n",
              "      dtype=object)"
            ]
          },
          "metadata": {
            "tags": []
          },
          "execution_count": 114
        }
      ]
    },
    {
      "cell_type": "code",
      "metadata": {
        "id": "NBu2Ax3tr5Al",
        "colab_type": "code",
        "colab": {}
      },
      "source": [
        "from sklearn import metrics\n",
        "acc_score = metrics.accuracy_score(y_test, predict)"
      ],
      "execution_count": 0,
      "outputs": []
    },
    {
      "cell_type": "code",
      "metadata": {
        "id": "ZCG9tj7msL7u",
        "colab_type": "code",
        "colab": {
          "base_uri": "https://localhost:8080/",
          "height": 33
        },
        "outputId": "40f8ac2e-b0fe-42e6-ba56-c619678fd42a"
      },
      "source": [
        "acc_score"
      ],
      "execution_count": 116,
      "outputs": [
        {
          "output_type": "execute_result",
          "data": {
            "text/plain": [
              "0.825"
            ]
          },
          "metadata": {
            "tags": []
          },
          "execution_count": 116
        }
      ]
    },
    {
      "cell_type": "markdown",
      "metadata": {
        "id": "plTUo1Tf19ov",
        "colab_type": "text"
      },
      "source": [
        "## Finding optimal threshold values"
      ]
    },
    {
      "cell_type": "code",
      "metadata": {
        "id": "Nf_lwy4TsqnI",
        "colab_type": "code",
        "colab": {}
      },
      "source": [
        "C_param_range = [0.001,0.01,0.1,1,10,100,1000, 100000]\n",
        "\n",
        "acc_table = pd.DataFrame(columns = ['C_parameter','Accuracy'])\n",
        "acc_table['C_parameter'] = C_param_range\n",
        "\n",
        "j = 0\n",
        "for i in C_param_range:\n",
        "    \n",
        "    # Apply logistic regression model to training data\n",
        "    lr = LogisticRegression(penalty = 'l2', C = i,random_state = 68)\n",
        "    lr.fit(X_train,y_train)\n",
        "    \n",
        "    # Predict using model\n",
        "    y_pred = lr.predict(X_test)\n",
        "    \n",
        "    # Saving accuracy score in table\n",
        "    acc_table.iloc[j,1] = metrics.accuracy_score(y_test,y_pred)\n",
        "    j += 1"
      ],
      "execution_count": 0,
      "outputs": []
    },
    {
      "cell_type": "code",
      "metadata": {
        "id": "hogUb_0v0Cvd",
        "colab_type": "code",
        "colab": {
          "base_uri": "https://localhost:8080/",
          "height": 277
        },
        "outputId": "f6c26776-e694-4897-889b-450ed0184a48"
      },
      "source": [
        "acc_table "
      ],
      "execution_count": 118,
      "outputs": [
        {
          "output_type": "execute_result",
          "data": {
            "text/html": [
              "<div>\n",
              "<style scoped>\n",
              "    .dataframe tbody tr th:only-of-type {\n",
              "        vertical-align: middle;\n",
              "    }\n",
              "\n",
              "    .dataframe tbody tr th {\n",
              "        vertical-align: top;\n",
              "    }\n",
              "\n",
              "    .dataframe thead th {\n",
              "        text-align: right;\n",
              "    }\n",
              "</style>\n",
              "<table border=\"1\" class=\"dataframe\">\n",
              "  <thead>\n",
              "    <tr style=\"text-align: right;\">\n",
              "      <th></th>\n",
              "      <th>C_parameter</th>\n",
              "      <th>Accuracy</th>\n",
              "    </tr>\n",
              "  </thead>\n",
              "  <tbody>\n",
              "    <tr>\n",
              "      <th>0</th>\n",
              "      <td>0.001</td>\n",
              "      <td>0.65</td>\n",
              "    </tr>\n",
              "    <tr>\n",
              "      <th>1</th>\n",
              "      <td>0.010</td>\n",
              "      <td>0.65</td>\n",
              "    </tr>\n",
              "    <tr>\n",
              "      <th>2</th>\n",
              "      <td>0.100</td>\n",
              "      <td>0.65</td>\n",
              "    </tr>\n",
              "    <tr>\n",
              "      <th>3</th>\n",
              "      <td>1.000</td>\n",
              "      <td>0.8</td>\n",
              "    </tr>\n",
              "    <tr>\n",
              "      <th>4</th>\n",
              "      <td>10.000</td>\n",
              "      <td>0.825</td>\n",
              "    </tr>\n",
              "    <tr>\n",
              "      <th>5</th>\n",
              "      <td>100.000</td>\n",
              "      <td>0.825</td>\n",
              "    </tr>\n",
              "    <tr>\n",
              "      <th>6</th>\n",
              "      <td>1000.000</td>\n",
              "      <td>0.825</td>\n",
              "    </tr>\n",
              "    <tr>\n",
              "      <th>7</th>\n",
              "      <td>100000.000</td>\n",
              "      <td>0.825</td>\n",
              "    </tr>\n",
              "  </tbody>\n",
              "</table>\n",
              "</div>"
            ],
            "text/plain": [
              "   C_parameter Accuracy\n",
              "0        0.001     0.65\n",
              "1        0.010     0.65\n",
              "2        0.100     0.65\n",
              "3        1.000      0.8\n",
              "4       10.000    0.825\n",
              "5      100.000    0.825\n",
              "6     1000.000    0.825\n",
              "7   100000.000    0.825"
            ]
          },
          "metadata": {
            "tags": []
          },
          "execution_count": 118
        }
      ]
    },
    {
      "cell_type": "markdown",
      "metadata": {
        "id": "241A85hQ2DJb",
        "colab_type": "text"
      },
      "source": [
        "As we can see from above table after C=10 the accuracy values are constant or it saturated. So we can say that C=10 is the optimal points for the given datasets."
      ]
    },
    {
      "cell_type": "code",
      "metadata": {
        "id": "HWU8COGd1d4U",
        "colab_type": "code",
        "colab": {}
      },
      "source": [
        ""
      ],
      "execution_count": 0,
      "outputs": []
    }
  ]
}