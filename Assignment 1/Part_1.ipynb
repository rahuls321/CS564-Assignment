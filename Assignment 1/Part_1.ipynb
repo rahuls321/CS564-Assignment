{
  "nbformat": 4,
  "nbformat_minor": 0,
  "metadata": {
    "colab": {
      "name": "Assignment 1- Part 1",
      "version": "0.3.2",
      "provenance": []
    },
    "kernelspec": {
      "name": "python2",
      "display_name": "Python 2"
    }
  },
  "cells": [
    {
      "cell_type": "markdown",
      "metadata": {
        "id": "trkZ6OjM4f18",
        "colab_type": "text"
      },
      "source": [
        "## Assignment 1 - Part 1\n"
      ]
    },
    {
      "cell_type": "code",
      "metadata": {
        "id": "ce5lcdHwbA7w",
        "colab_type": "code",
        "colab": {}
      },
      "source": [
        "#Importing libraries\n",
        "import numpy as np\n",
        "import pandas as pd\n",
        "import matplotlib.pyplot as plt\n"
      ],
      "execution_count": 0,
      "outputs": []
    },
    {
      "cell_type": "code",
      "metadata": {
        "id": "PtNN0bdXbe6l",
        "colab_type": "code",
        "colab": {}
      },
      "source": [
        "#Importing datasets from google drive \n",
        "from google.colab import drive \n",
        "drive.mount('/content/gdrive')"
      ],
      "execution_count": 0,
      "outputs": []
    },
    {
      "cell_type": "code",
      "metadata": {
        "id": "FvkFYQ9TbvBq",
        "colab_type": "code",
        "colab": {}
      },
      "source": [
        "df=pd.read_csv('gdrive/My Drive/Colab Notebooks/stackOverflow.csv')"
      ],
      "execution_count": 0,
      "outputs": []
    },
    {
      "cell_type": "code",
      "metadata": {
        "id": "0lEG3kNib8fR",
        "colab_type": "code",
        "colab": {
          "base_uri": "https://localhost:8080/",
          "height": 191
        },
        "outputId": "3185e254-f59a-4097-cfc1-f7b305631f81"
      },
      "source": [
        "df.head()"
      ],
      "execution_count": 23,
      "outputs": [
        {
          "output_type": "execute_result",
          "data": {
            "text/html": [
              "<div>\n",
              "<style scoped>\n",
              "    .dataframe tbody tr th:only-of-type {\n",
              "        vertical-align: middle;\n",
              "    }\n",
              "\n",
              "    .dataframe tbody tr th {\n",
              "        vertical-align: top;\n",
              "    }\n",
              "\n",
              "    .dataframe thead th {\n",
              "        text-align: right;\n",
              "    }\n",
              "</style>\n",
              "<table border=\"1\" class=\"dataframe\">\n",
              "  <thead>\n",
              "    <tr style=\"text-align: right;\">\n",
              "      <th></th>\n",
              "      <th>Unnamed: 0</th>\n",
              "      <th>qid</th>\n",
              "      <th>i</th>\n",
              "      <th>qs</th>\n",
              "      <th>qt</th>\n",
              "      <th>tags</th>\n",
              "      <th>qvc</th>\n",
              "      <th>qac</th>\n",
              "      <th>aid</th>\n",
              "      <th>j</th>\n",
              "      <th>as</th>\n",
              "      <th>at</th>\n",
              "    </tr>\n",
              "  </thead>\n",
              "  <tbody>\n",
              "    <tr>\n",
              "      <th>0</th>\n",
              "      <td>1</td>\n",
              "      <td>563355</td>\n",
              "      <td>62701.0</td>\n",
              "      <td>0</td>\n",
              "      <td>1235000081</td>\n",
              "      <td>php,error,gd,image-processing</td>\n",
              "      <td>220</td>\n",
              "      <td>2</td>\n",
              "      <td>563372</td>\n",
              "      <td>67183.0</td>\n",
              "      <td>2</td>\n",
              "      <td>1235000501</td>\n",
              "    </tr>\n",
              "    <tr>\n",
              "      <th>1</th>\n",
              "      <td>2</td>\n",
              "      <td>563355</td>\n",
              "      <td>62701.0</td>\n",
              "      <td>0</td>\n",
              "      <td>1235000081</td>\n",
              "      <td>php,error,gd,image-processing</td>\n",
              "      <td>220</td>\n",
              "      <td>2</td>\n",
              "      <td>563374</td>\n",
              "      <td>66554.0</td>\n",
              "      <td>0</td>\n",
              "      <td>1235000551</td>\n",
              "    </tr>\n",
              "    <tr>\n",
              "      <th>2</th>\n",
              "      <td>3</td>\n",
              "      <td>563356</td>\n",
              "      <td>15842.0</td>\n",
              "      <td>10</td>\n",
              "      <td>1235000140</td>\n",
              "      <td>lisp,scheme,subjective,clojure</td>\n",
              "      <td>1047</td>\n",
              "      <td>16</td>\n",
              "      <td>563358</td>\n",
              "      <td>15842.0</td>\n",
              "      <td>3</td>\n",
              "      <td>1235000177</td>\n",
              "    </tr>\n",
              "    <tr>\n",
              "      <th>3</th>\n",
              "      <td>4</td>\n",
              "      <td>563356</td>\n",
              "      <td>15842.0</td>\n",
              "      <td>10</td>\n",
              "      <td>1235000140</td>\n",
              "      <td>lisp,scheme,subjective,clojure</td>\n",
              "      <td>1047</td>\n",
              "      <td>16</td>\n",
              "      <td>563413</td>\n",
              "      <td>893.0</td>\n",
              "      <td>18</td>\n",
              "      <td>1235001545</td>\n",
              "    </tr>\n",
              "    <tr>\n",
              "      <th>4</th>\n",
              "      <td>5</td>\n",
              "      <td>563356</td>\n",
              "      <td>15842.0</td>\n",
              "      <td>10</td>\n",
              "      <td>1235000140</td>\n",
              "      <td>lisp,scheme,subjective,clojure</td>\n",
              "      <td>1047</td>\n",
              "      <td>16</td>\n",
              "      <td>563454</td>\n",
              "      <td>11649.0</td>\n",
              "      <td>4</td>\n",
              "      <td>1235002457</td>\n",
              "    </tr>\n",
              "  </tbody>\n",
              "</table>\n",
              "</div>"
            ],
            "text/plain": [
              "   Unnamed: 0     qid        i  qs  ...     aid        j  as          at\n",
              "0           1  563355  62701.0   0  ...  563372  67183.0   2  1235000501\n",
              "1           2  563355  62701.0   0  ...  563374  66554.0   0  1235000551\n",
              "2           3  563356  15842.0  10  ...  563358  15842.0   3  1235000177\n",
              "3           4  563356  15842.0  10  ...  563413    893.0  18  1235001545\n",
              "4           5  563356  15842.0  10  ...  563454  11649.0   4  1235002457\n",
              "\n",
              "[5 rows x 12 columns]"
            ]
          },
          "metadata": {
            "tags": []
          },
          "execution_count": 23
        }
      ]
    },
    {
      "cell_type": "code",
      "metadata": {
        "id": "jH2fo3NSb-L4",
        "colab_type": "code",
        "colab": {
          "base_uri": "https://localhost:8080/",
          "height": 66
        },
        "outputId": "e4a32106-81d8-4eff-bd08-0bf6932e5644"
      },
      "source": [
        "df.columns"
      ],
      "execution_count": 24,
      "outputs": [
        {
          "output_type": "execute_result",
          "data": {
            "text/plain": [
              "Index([u'Unnamed: 0', u'qid', u'i', u'qs', u'qt', u'tags', u'qvc', u'qac',\n",
              "       u'aid', u'j', u'as', u'at'],\n",
              "      dtype='object')"
            ]
          },
          "metadata": {
            "tags": []
          },
          "execution_count": 24
        }
      ]
    },
    {
      "cell_type": "markdown",
      "metadata": {
        "id": "7iAoyQc4cmnk",
        "colab_type": "text"
      },
      "source": [
        "The following tags are represented as \n",
        "\n",
        "**qid** : question_id\n",
        "**i** : userID_q\n",
        "**qs** : score_q\n",
        "**qt** : time_q\n",
        "**tags** : tags\n",
        "**qvc** : views_q\n",
        "**qac** : answers\n",
        "**aid** : answer_id\n",
        "**j** : userID_a\n",
        "**as** : score_a\n",
        "**at** : time_a "
      ]
    },
    {
      "cell_type": "code",
      "metadata": {
        "id": "v-AWRfnTd8nO",
        "colab_type": "code",
        "colab": {}
      },
      "source": [
        "del df['Unnamed: 0']"
      ],
      "execution_count": 0,
      "outputs": []
    },
    {
      "cell_type": "code",
      "metadata": {
        "id": "Vf7ev2ordV0P",
        "colab_type": "code",
        "colab": {}
      },
      "source": [
        "df.columns = ['question_id', 'userID_q', 'score_q', 'time_q', 'tags', 'views_q', 'answers', 'answer_id', 'userID_a', 'score_a', 'time_a']"
      ],
      "execution_count": 0,
      "outputs": []
    },
    {
      "cell_type": "code",
      "metadata": {
        "id": "sSojFprPdndD",
        "colab_type": "code",
        "colab": {
          "base_uri": "https://localhost:8080/",
          "height": 191
        },
        "outputId": "f6e784a0-2ab1-4038-b814-0dc57c405970"
      },
      "source": [
        "df.head()"
      ],
      "execution_count": 27,
      "outputs": [
        {
          "output_type": "execute_result",
          "data": {
            "text/html": [
              "<div>\n",
              "<style scoped>\n",
              "    .dataframe tbody tr th:only-of-type {\n",
              "        vertical-align: middle;\n",
              "    }\n",
              "\n",
              "    .dataframe tbody tr th {\n",
              "        vertical-align: top;\n",
              "    }\n",
              "\n",
              "    .dataframe thead th {\n",
              "        text-align: right;\n",
              "    }\n",
              "</style>\n",
              "<table border=\"1\" class=\"dataframe\">\n",
              "  <thead>\n",
              "    <tr style=\"text-align: right;\">\n",
              "      <th></th>\n",
              "      <th>question_id</th>\n",
              "      <th>userID_q</th>\n",
              "      <th>score_q</th>\n",
              "      <th>time_q</th>\n",
              "      <th>tags</th>\n",
              "      <th>views_q</th>\n",
              "      <th>answers</th>\n",
              "      <th>answer_id</th>\n",
              "      <th>userID_a</th>\n",
              "      <th>score_a</th>\n",
              "      <th>time_a</th>\n",
              "    </tr>\n",
              "  </thead>\n",
              "  <tbody>\n",
              "    <tr>\n",
              "      <th>0</th>\n",
              "      <td>563355</td>\n",
              "      <td>62701.0</td>\n",
              "      <td>0</td>\n",
              "      <td>1235000081</td>\n",
              "      <td>php,error,gd,image-processing</td>\n",
              "      <td>220</td>\n",
              "      <td>2</td>\n",
              "      <td>563372</td>\n",
              "      <td>67183.0</td>\n",
              "      <td>2</td>\n",
              "      <td>1235000501</td>\n",
              "    </tr>\n",
              "    <tr>\n",
              "      <th>1</th>\n",
              "      <td>563355</td>\n",
              "      <td>62701.0</td>\n",
              "      <td>0</td>\n",
              "      <td>1235000081</td>\n",
              "      <td>php,error,gd,image-processing</td>\n",
              "      <td>220</td>\n",
              "      <td>2</td>\n",
              "      <td>563374</td>\n",
              "      <td>66554.0</td>\n",
              "      <td>0</td>\n",
              "      <td>1235000551</td>\n",
              "    </tr>\n",
              "    <tr>\n",
              "      <th>2</th>\n",
              "      <td>563356</td>\n",
              "      <td>15842.0</td>\n",
              "      <td>10</td>\n",
              "      <td>1235000140</td>\n",
              "      <td>lisp,scheme,subjective,clojure</td>\n",
              "      <td>1047</td>\n",
              "      <td>16</td>\n",
              "      <td>563358</td>\n",
              "      <td>15842.0</td>\n",
              "      <td>3</td>\n",
              "      <td>1235000177</td>\n",
              "    </tr>\n",
              "    <tr>\n",
              "      <th>3</th>\n",
              "      <td>563356</td>\n",
              "      <td>15842.0</td>\n",
              "      <td>10</td>\n",
              "      <td>1235000140</td>\n",
              "      <td>lisp,scheme,subjective,clojure</td>\n",
              "      <td>1047</td>\n",
              "      <td>16</td>\n",
              "      <td>563413</td>\n",
              "      <td>893.0</td>\n",
              "      <td>18</td>\n",
              "      <td>1235001545</td>\n",
              "    </tr>\n",
              "    <tr>\n",
              "      <th>4</th>\n",
              "      <td>563356</td>\n",
              "      <td>15842.0</td>\n",
              "      <td>10</td>\n",
              "      <td>1235000140</td>\n",
              "      <td>lisp,scheme,subjective,clojure</td>\n",
              "      <td>1047</td>\n",
              "      <td>16</td>\n",
              "      <td>563454</td>\n",
              "      <td>11649.0</td>\n",
              "      <td>4</td>\n",
              "      <td>1235002457</td>\n",
              "    </tr>\n",
              "  </tbody>\n",
              "</table>\n",
              "</div>"
            ],
            "text/plain": [
              "   question_id  userID_q  score_q  ...  userID_a score_a      time_a\n",
              "0       563355   62701.0        0  ...   67183.0       2  1235000501\n",
              "1       563355   62701.0        0  ...   66554.0       0  1235000551\n",
              "2       563356   15842.0       10  ...   15842.0       3  1235000177\n",
              "3       563356   15842.0       10  ...     893.0      18  1235001545\n",
              "4       563356   15842.0       10  ...   11649.0       4  1235002457\n",
              "\n",
              "[5 rows x 11 columns]"
            ]
          },
          "metadata": {
            "tags": []
          },
          "execution_count": 27
        }
      ]
    },
    {
      "cell_type": "markdown",
      "metadata": {
        "id": "gysSGIhQfRRj",
        "colab_type": "text"
      },
      "source": [
        "## **1. Number of questions asked with respect to the given Tags.**"
      ]
    },
    {
      "cell_type": "code",
      "metadata": {
        "id": "3n9VQdigfWhy",
        "colab_type": "code",
        "colab": {}
      },
      "source": [
        "tag_list = df[\"tags\"].unique().tolist()"
      ],
      "execution_count": 0,
      "outputs": []
    },
    {
      "cell_type": "code",
      "metadata": {
        "id": "2fCPeMAgfqkR",
        "colab_type": "code",
        "colab": {}
      },
      "source": [
        "tag_len = df['tags'].apply(lambda x: x.split(','))"
      ],
      "execution_count": 0,
      "outputs": []
    },
    {
      "cell_type": "code",
      "metadata": {
        "id": "yA2XEAB3hTZK",
        "colab_type": "code",
        "colab": {
          "base_uri": "https://localhost:8080/",
          "height": 33
        },
        "outputId": "b3501800-26f3-4cd8-a0a5-8e11748a9c4f"
      },
      "source": [
        "len(tag_len[0])"
      ],
      "execution_count": 33,
      "outputs": [
        {
          "output_type": "execute_result",
          "data": {
            "text/plain": [
              "4"
            ]
          },
          "metadata": {
            "tags": []
          },
          "execution_count": 33
        }
      ]
    },
    {
      "cell_type": "code",
      "metadata": {
        "id": "1oPUBj5-hzA9",
        "colab_type": "code",
        "colab": {}
      },
      "source": [
        "from collections import Counter"
      ],
      "execution_count": 0,
      "outputs": []
    },
    {
      "cell_type": "code",
      "metadata": {
        "id": "sf3VL7hifr5Y",
        "colab_type": "code",
        "colab": {}
      },
      "source": [
        "total_tag = []\n",
        "for tag in tag_len:\n",
        "  total_tag.append(len(tag))\n",
        "total_tag = Counter(total_tag)\n"
      ],
      "execution_count": 0,
      "outputs": []
    },
    {
      "cell_type": "code",
      "metadata": {
        "id": "5l-dWnUnhwvu",
        "colab_type": "code",
        "colab": {
          "base_uri": "https://localhost:8080/",
          "height": 33
        },
        "outputId": "517c2f80-d477-41cb-d7b4-0d13e58ecd57"
      },
      "source": [
        "total_tag"
      ],
      "execution_count": 38,
      "outputs": [
        {
          "output_type": "execute_result",
          "data": {
            "text/plain": [
              "Counter({1: 24332, 2: 63304, 3: 79577, 4: 56678, 5: 39649})"
            ]
          },
          "metadata": {
            "tags": []
          },
          "execution_count": 38
        }
      ]
    },
    {
      "cell_type": "code",
      "metadata": {
        "id": "-gRT36lhh8PO",
        "colab_type": "code",
        "colab": {
          "base_uri": "https://localhost:8080/",
          "height": 295
        },
        "outputId": "f6dc3c0b-093e-432b-afbf-a26b1ee2c41a"
      },
      "source": [
        "plt.bar(list(total_tag.keys()), list(total_tag.values()))\n",
        "plt.xlabel('Total Number of Tags')\n",
        "plt.ylabel('Total Number of Questions Asked')\n",
        "plt.title('Questions asked wrt. Given tags')\n",
        "plt.show()"
      ],
      "execution_count": 43,
      "outputs": [
        {
          "output_type": "display_data",
          "data": {
            "image/png": "[encoded data removed]",
            "text/plain": [
              "<Figure size 432x288 with 1 Axes>"
            ]
          },
          "metadata": {
            "tags": []
          }
        }
      ]
    },
    {
      "cell_type": "markdown",
      "metadata": {
        "id": "o407j4SUi34y",
        "colab_type": "text"
      },
      "source": [
        "As we can see most of the questions asked which are having 3 tags and then 2 tags and then others."
      ]
    },
    {
      "cell_type": "markdown",
      "metadata": {
        "id": "0UJsfXUcjVQC",
        "colab_type": "text"
      },
      "source": [
        "## 2. Most commonly used tags"
      ]
    },
    {
      "cell_type": "code",
      "metadata": {
        "id": "aKfuEQ_VlCPX",
        "colab_type": "code",
        "colab": {}
      },
      "source": [
        "tags = list(df['tags'].unique())\n",
        "tags_list = []\n",
        "for tag in tags:\n",
        "    tags_list += tag.split(',')\n",
        "tags_list"
      ],
      "execution_count": 0,
      "outputs": []
    },
    {
      "cell_type": "code",
      "metadata": {
        "id": "1K3TogSMiff6",
        "colab_type": "code",
        "colab": {
          "base_uri": "https://localhost:8080/",
          "height": 1000
        },
        "outputId": "a7a7cfdd-8313-44eb-fd7c-a186e4fc54a8"
      },
      "source": [
        "tags_list = Counter(tags_list)\n",
        "tags = pd.DataFrame()\n",
        "tags['tag'] = list(tags_list.keys())\n",
        "tags['freq'] = list(tags_list.values())\n",
        "tags"
      ],
      "execution_count": 68,
      "outputs": [
        {
          "output_type": "execute_result",
          "data": {
            "text/html": [
              "<div>\n",
              "<style scoped>\n",
              "    .dataframe tbody tr th:only-of-type {\n",
              "        vertical-align: middle;\n",
              "    }\n",
              "\n",
              "    .dataframe tbody tr th {\n",
              "        vertical-align: top;\n",
              "    }\n",
              "\n",
              "    .dataframe thead th {\n",
              "        text-align: right;\n",
              "    }\n",
              "</style>\n",
              "<table border=\"1\" class=\"dataframe\">\n",
              "  <thead>\n",
              "    <tr style=\"text-align: right;\">\n",
              "      <th></th>\n",
              "      <th>tag</th>\n",
              "      <th>freq</th>\n",
              "    </tr>\n",
              "  </thead>\n",
              "  <tbody>\n",
              "    <tr>\n",
              "      <th>0</th>\n",
              "      <td>fdcc</td>\n",
              "      <td>1</td>\n",
              "    </tr>\n",
              "    <tr>\n",
              "      <th>1</th>\n",
              "      <td>xgettext</td>\n",
              "      <td>4</td>\n",
              "    </tr>\n",
              "    <tr>\n",
              "      <th>2</th>\n",
              "      <td>screen-resolution</td>\n",
              "      <td>4</td>\n",
              "    </tr>\n",
              "    <tr>\n",
              "      <th>3</th>\n",
              "      <td>htmlagilitypack</td>\n",
              "      <td>6</td>\n",
              "    </tr>\n",
              "    <tr>\n",
              "      <th>4</th>\n",
              "      <td>opengl</td>\n",
              "      <td>214</td>\n",
              "    </tr>\n",
              "    <tr>\n",
              "      <th>5</th>\n",
              "      <td>legacy-code</td>\n",
              "      <td>16</td>\n",
              "    </tr>\n",
              "    <tr>\n",
              "      <th>6</th>\n",
              "      <td>aegis</td>\n",
              "      <td>1</td>\n",
              "    </tr>\n",
              "    <tr>\n",
              "      <th>7</th>\n",
              "      <td>ejb</td>\n",
              "      <td>35</td>\n",
              "    </tr>\n",
              "    <tr>\n",
              "      <th>8</th>\n",
              "      <td>dubious-intent</td>\n",
              "      <td>1</td>\n",
              "    </tr>\n",
              "    <tr>\n",
              "      <th>9</th>\n",
              "      <td>hanging</td>\n",
              "      <td>3</td>\n",
              "    </tr>\n",
              "    <tr>\n",
              "      <th>10</th>\n",
              "      <td>binary-operators</td>\n",
              "      <td>1</td>\n",
              "    </tr>\n",
              "    <tr>\n",
              "      <th>11</th>\n",
              "      <td>database-installation</td>\n",
              "      <td>1</td>\n",
              "    </tr>\n",
              "    <tr>\n",
              "      <th>12</th>\n",
              "      <td>audio-cd</td>\n",
              "      <td>1</td>\n",
              "    </tr>\n",
              "    <tr>\n",
              "      <th>13</th>\n",
              "      <td>inline-editing</td>\n",
              "      <td>2</td>\n",
              "    </tr>\n",
              "    <tr>\n",
              "      <th>14</th>\n",
              "      <td>windowûlocation</td>\n",
              "      <td>1</td>\n",
              "    </tr>\n",
              "    <tr>\n",
              "      <th>15</th>\n",
              "      <td>windows-ce</td>\n",
              "      <td>7</td>\n",
              "    </tr>\n",
              "    <tr>\n",
              "      <th>16</th>\n",
              "      <td>programming-related</td>\n",
              "      <td>1</td>\n",
              "    </tr>\n",
              "    <tr>\n",
              "      <th>17</th>\n",
              "      <td>unanswered</td>\n",
              "      <td>2</td>\n",
              "    </tr>\n",
              "    <tr>\n",
              "      <th>18</th>\n",
              "      <td>coreanimation</td>\n",
              "      <td>1</td>\n",
              "    </tr>\n",
              "    <tr>\n",
              "      <th>19</th>\n",
              "      <td>code-comments</td>\n",
              "      <td>4</td>\n",
              "    </tr>\n",
              "    <tr>\n",
              "      <th>20</th>\n",
              "      <td>agile-processes</td>\n",
              "      <td>1</td>\n",
              "    </tr>\n",
              "    <tr>\n",
              "      <th>21</th>\n",
              "      <td>dependency</td>\n",
              "      <td>22</td>\n",
              "    </tr>\n",
              "    <tr>\n",
              "      <th>22</th>\n",
              "      <td>mscorwksûdll</td>\n",
              "      <td>1</td>\n",
              "    </tr>\n",
              "    <tr>\n",
              "      <th>23</th>\n",
              "      <td>db-schema</td>\n",
              "      <td>1</td>\n",
              "    </tr>\n",
              "    <tr>\n",
              "      <th>24</th>\n",
              "      <td>time-trace</td>\n",
              "      <td>1</td>\n",
              "    </tr>\n",
              "    <tr>\n",
              "      <th>25</th>\n",
              "      <td>ramdisk</td>\n",
              "      <td>3</td>\n",
              "    </tr>\n",
              "    <tr>\n",
              "      <th>26</th>\n",
              "      <td>onsubmit</td>\n",
              "      <td>3</td>\n",
              "    </tr>\n",
              "    <tr>\n",
              "      <th>27</th>\n",
              "      <td>barcode-scanner</td>\n",
              "      <td>2</td>\n",
              "    </tr>\n",
              "    <tr>\n",
              "      <th>28</th>\n",
              "      <td>winsockets</td>\n",
              "      <td>4</td>\n",
              "    </tr>\n",
              "    <tr>\n",
              "      <th>29</th>\n",
              "      <td>filenotfoundexception</td>\n",
              "      <td>2</td>\n",
              "    </tr>\n",
              "    <tr>\n",
              "      <th>...</th>\n",
              "      <td>...</td>\n",
              "      <td>...</td>\n",
              "    </tr>\n",
              "    <tr>\n",
              "      <th>14218</th>\n",
              "      <td>monitors</td>\n",
              "      <td>1</td>\n",
              "    </tr>\n",
              "    <tr>\n",
              "      <th>14219</th>\n",
              "      <td>other</td>\n",
              "      <td>1</td>\n",
              "    </tr>\n",
              "    <tr>\n",
              "      <th>14220</th>\n",
              "      <td>bool</td>\n",
              "      <td>6</td>\n",
              "    </tr>\n",
              "    <tr>\n",
              "      <th>14221</th>\n",
              "      <td>branch</td>\n",
              "      <td>21</td>\n",
              "    </tr>\n",
              "    <tr>\n",
              "      <th>14222</th>\n",
              "      <td>netnamedpipebinding</td>\n",
              "      <td>1</td>\n",
              "    </tr>\n",
              "    <tr>\n",
              "      <th>14223</th>\n",
              "      <td>php5</td>\n",
              "      <td>139</td>\n",
              "    </tr>\n",
              "    <tr>\n",
              "      <th>14224</th>\n",
              "      <td>php6</td>\n",
              "      <td>4</td>\n",
              "    </tr>\n",
              "    <tr>\n",
              "      <th>14225</th>\n",
              "      <td>linkpoint</td>\n",
              "      <td>1</td>\n",
              "    </tr>\n",
              "    <tr>\n",
              "      <th>14226</th>\n",
              "      <td>thread-local-storage</td>\n",
              "      <td>1</td>\n",
              "    </tr>\n",
              "    <tr>\n",
              "      <th>14227</th>\n",
              "      <td>perl-xs</td>\n",
              "      <td>1</td>\n",
              "    </tr>\n",
              "    <tr>\n",
              "      <th>14228</th>\n",
              "      <td>execvp</td>\n",
              "      <td>1</td>\n",
              "    </tr>\n",
              "    <tr>\n",
              "      <th>14229</th>\n",
              "      <td>svn-export</td>\n",
              "      <td>1</td>\n",
              "    </tr>\n",
              "    <tr>\n",
              "      <th>14230</th>\n",
              "      <td>mobile-application</td>\n",
              "      <td>2</td>\n",
              "    </tr>\n",
              "    <tr>\n",
              "      <th>14231</th>\n",
              "      <td>feelings</td>\n",
              "      <td>1</td>\n",
              "    </tr>\n",
              "    <tr>\n",
              "      <th>14232</th>\n",
              "      <td>snapstodevicepixels</td>\n",
              "      <td>1</td>\n",
              "    </tr>\n",
              "    <tr>\n",
              "      <th>14233</th>\n",
              "      <td>ace-tao</td>\n",
              "      <td>1</td>\n",
              "    </tr>\n",
              "    <tr>\n",
              "      <th>14234</th>\n",
              "      <td>troubeshooting</td>\n",
              "      <td>1</td>\n",
              "    </tr>\n",
              "    <tr>\n",
              "      <th>14235</th>\n",
              "      <td>asynchronous-wcf-call</td>\n",
              "      <td>1</td>\n",
              "    </tr>\n",
              "    <tr>\n",
              "      <th>14236</th>\n",
              "      <td>uicomponents</td>\n",
              "      <td>4</td>\n",
              "    </tr>\n",
              "    <tr>\n",
              "      <th>14237</th>\n",
              "      <td>ifilter</td>\n",
              "      <td>1</td>\n",
              "    </tr>\n",
              "    <tr>\n",
              "      <th>14238</th>\n",
              "      <td>coupling</td>\n",
              "      <td>5</td>\n",
              "    </tr>\n",
              "    <tr>\n",
              "      <th>14239</th>\n",
              "      <td>sass</td>\n",
              "      <td>5</td>\n",
              "    </tr>\n",
              "    <tr>\n",
              "      <th>14240</th>\n",
              "      <td>standard-library</td>\n",
              "      <td>6</td>\n",
              "    </tr>\n",
              "    <tr>\n",
              "      <th>14241</th>\n",
              "      <td>jscript</td>\n",
              "      <td>23</td>\n",
              "    </tr>\n",
              "    <tr>\n",
              "      <th>14242</th>\n",
              "      <td>bcp</td>\n",
              "      <td>8</td>\n",
              "    </tr>\n",
              "    <tr>\n",
              "      <th>14243</th>\n",
              "      <td>space</td>\n",
              "      <td>7</td>\n",
              "    </tr>\n",
              "    <tr>\n",
              "      <th>14244</th>\n",
              "      <td>forloop</td>\n",
              "      <td>1</td>\n",
              "    </tr>\n",
              "    <tr>\n",
              "      <th>14245</th>\n",
              "      <td>profit</td>\n",
              "      <td>2</td>\n",
              "    </tr>\n",
              "    <tr>\n",
              "      <th>14246</th>\n",
              "      <td>schtasksûexe</td>\n",
              "      <td>1</td>\n",
              "    </tr>\n",
              "    <tr>\n",
              "      <th>14247</th>\n",
              "      <td>sasl</td>\n",
              "      <td>1</td>\n",
              "    </tr>\n",
              "  </tbody>\n",
              "</table>\n",
              "<p>14248 rows × 2 columns</p>\n",
              "</div>"
            ],
            "text/plain": [
              "                         tag  freq\n",
              "0                       fdcc     1\n",
              "1                   xgettext     4\n",
              "2          screen-resolution     4\n",
              "3            htmlagilitypack     6\n",
              "4                     opengl   214\n",
              "5                legacy-code    16\n",
              "6                      aegis     1\n",
              "7                        ejb    35\n",
              "8             dubious-intent     1\n",
              "9                    hanging     3\n",
              "10          binary-operators     1\n",
              "11     database-installation     1\n",
              "12                  audio-cd     1\n",
              "13            inline-editing     2\n",
              "14           windowûlocation     1\n",
              "15                windows-ce     7\n",
              "16       programming-related     1\n",
              "17                unanswered     2\n",
              "18             coreanimation     1\n",
              "19             code-comments     4\n",
              "20           agile-processes     1\n",
              "21                dependency    22\n",
              "22              mscorwksûdll     1\n",
              "23                 db-schema     1\n",
              "24                time-trace     1\n",
              "25                   ramdisk     3\n",
              "26                  onsubmit     3\n",
              "27           barcode-scanner     2\n",
              "28                winsockets     4\n",
              "29     filenotfoundexception     2\n",
              "...                      ...   ...\n",
              "14218               monitors     1\n",
              "14219                  other     1\n",
              "14220                   bool     6\n",
              "14221                 branch    21\n",
              "14222    netnamedpipebinding     1\n",
              "14223                   php5   139\n",
              "14224                   php6     4\n",
              "14225              linkpoint     1\n",
              "14226   thread-local-storage     1\n",
              "14227                perl-xs     1\n",
              "14228                 execvp     1\n",
              "14229             svn-export     1\n",
              "14230     mobile-application     2\n",
              "14231               feelings     1\n",
              "14232    snapstodevicepixels     1\n",
              "14233                ace-tao     1\n",
              "14234         troubeshooting     1\n",
              "14235  asynchronous-wcf-call     1\n",
              "14236           uicomponents     4\n",
              "14237                ifilter     1\n",
              "14238               coupling     5\n",
              "14239                   sass     5\n",
              "14240       standard-library     6\n",
              "14241                jscript    23\n",
              "14242                    bcp     8\n",
              "14243                  space     7\n",
              "14244                forloop     1\n",
              "14245                 profit     2\n",
              "14246           schtasksûexe     1\n",
              "14247                   sasl     1\n",
              "\n",
              "[14248 rows x 2 columns]"
            ]
          },
          "metadata": {
            "tags": []
          },
          "execution_count": 68
        }
      ]
    },
    {
      "cell_type": "code",
      "metadata": {
        "id": "R7HMOFOLl6Qr",
        "colab_type": "code",
        "colab": {}
      },
      "source": [
        "tags = tags.sort_values(by='freq', ascending=False)"
      ],
      "execution_count": 0,
      "outputs": []
    },
    {
      "cell_type": "code",
      "metadata": {
        "id": "eCN6UpstoLPo",
        "colab_type": "code",
        "colab": {
          "base_uri": "https://localhost:8080/",
          "height": 295
        },
        "outputId": "144e8d97-7986-4a42-9156-ac149ef79d56"
      },
      "source": [
        "#plotting horizontal bar\n",
        "plt.barh(list(tags['tag'])[:10], list(tags['freq'])[:10])\n",
        "plt.ylabel('Most Commonly used tags')\n",
        "plt.xlabel('Freq of tag')\n",
        "plt.title('Top 10 Most Popular Tags')\n",
        "plt.show()"
      ],
      "execution_count": 74,
      "outputs": [
        {
          "output_type": "display_data",
          "data": {
            "image/png": "[encoded data removed]",
            "text/plain": [
              "<Figure size 432x288 with 1 Axes>"
            ]
          },
          "metadata": {
            "tags": []
          }
        }
      ]
    },
    {
      "cell_type": "markdown",
      "metadata": {
        "id": "8DPNtmGoo33u",
        "colab_type": "text"
      },
      "source": [
        "From the above bar graph we can say that C# is the most commonly used tag."
      ]
    },
    {
      "cell_type": "markdown",
      "metadata": {
        "id": "IqoTHKU4pJNE",
        "colab_type": "text"
      },
      "source": [
        "### Trend of in Data Science Tags "
      ]
    },
    {
      "cell_type": "markdown",
      "metadata": {
        "id": "HiWiE4IjpojT",
        "colab_type": "text"
      },
      "source": [
        "Common tags used in Data science are \"python\" , \"r\", \"excel\", \"matlab\""
      ]
    },
    {
      "cell_type": "code",
      "metadata": {
        "id": "lY5fSMS0p3KY",
        "colab_type": "code",
        "colab": {}
      },
      "source": [
        "data_science_tags = ['python', 'r', 'excel', 'matlab']\n",
        "xaxis,yaxis = [], []\n",
        "for tag in data_science_tags:\n",
        "    i = list(tags['tag']).index(tag)\n",
        "    xaxis.append(tag)\n",
        "    yaxis.append(list(tags['freq'])[i])"
      ],
      "execution_count": 0,
      "outputs": []
    },
    {
      "cell_type": "code",
      "metadata": {
        "id": "L1Z40KjsqXwL",
        "colab_type": "code",
        "colab": {
          "base_uri": "https://localhost:8080/",
          "height": 295
        },
        "outputId": "431aa685-99b8-486a-dad7-1fbdafd5a8d8"
      },
      "source": [
        "plt.bar(xaxis, yaxis)\n",
        "plt.ylabel('Data Science Tag')\n",
        "plt.xlabel('Freq')\n",
        "plt.title('Trend in Data Science Tags')\n",
        "plt.show()"
      ],
      "execution_count": 76,
      "outputs": [
        {
          "output_type": "display_data",
          "data": {
            "image/png": "[encoded data removed]",
            "text/plain": [
              "<Figure size 432x288 with 1 Axes>"
            ]
          },
          "metadata": {
            "tags": []
          }
        }
      ]
    },
    {
      "cell_type": "markdown",
      "metadata": {
        "id": "bEbbyD-2qoSm",
        "colab_type": "text"
      },
      "source": [
        "So, python is the most common tag in Data science."
      ]
    },
    {
      "cell_type": "markdown",
      "metadata": {
        "id": "vUAPCjhcq28W",
        "colab_type": "text"
      },
      "source": [
        "## 3. The average time is taken to answer a question."
      ]
    },
    {
      "cell_type": "code",
      "metadata": {
        "id": "mcJCC47mqmVn",
        "colab_type": "code",
        "colab": {
          "base_uri": "https://localhost:8080/",
          "height": 191
        },
        "outputId": "b6aab854-7ef4-4a7e-e6b2-82ae1403970b"
      },
      "source": [
        "time_taken = df[['time_q', 'time_a']]\n",
        "time_taken.head()"
      ],
      "execution_count": 78,
      "outputs": [
        {
          "output_type": "execute_result",
          "data": {
            "text/html": [
              "<div>\n",
              "<style scoped>\n",
              "    .dataframe tbody tr th:only-of-type {\n",
              "        vertical-align: middle;\n",
              "    }\n",
              "\n",
              "    .dataframe tbody tr th {\n",
              "        vertical-align: top;\n",
              "    }\n",
              "\n",
              "    .dataframe thead th {\n",
              "        text-align: right;\n",
              "    }\n",
              "</style>\n",
              "<table border=\"1\" class=\"dataframe\">\n",
              "  <thead>\n",
              "    <tr style=\"text-align: right;\">\n",
              "      <th></th>\n",
              "      <th>time_q</th>\n",
              "      <th>time_a</th>\n",
              "    </tr>\n",
              "  </thead>\n",
              "  <tbody>\n",
              "    <tr>\n",
              "      <th>0</th>\n",
              "      <td>1235000081</td>\n",
              "      <td>1235000501</td>\n",
              "    </tr>\n",
              "    <tr>\n",
              "      <th>1</th>\n",
              "      <td>1235000081</td>\n",
              "      <td>1235000551</td>\n",
              "    </tr>\n",
              "    <tr>\n",
              "      <th>2</th>\n",
              "      <td>1235000140</td>\n",
              "      <td>1235000177</td>\n",
              "    </tr>\n",
              "    <tr>\n",
              "      <th>3</th>\n",
              "      <td>1235000140</td>\n",
              "      <td>1235001545</td>\n",
              "    </tr>\n",
              "    <tr>\n",
              "      <th>4</th>\n",
              "      <td>1235000140</td>\n",
              "      <td>1235002457</td>\n",
              "    </tr>\n",
              "  </tbody>\n",
              "</table>\n",
              "</div>"
            ],
            "text/plain": [
              "       time_q      time_a\n",
              "0  1235000081  1235000501\n",
              "1  1235000081  1235000551\n",
              "2  1235000140  1235000177\n",
              "3  1235000140  1235001545\n",
              "4  1235000140  1235002457"
            ]
          },
          "metadata": {
            "tags": []
          },
          "execution_count": 78
        }
      ]
    },
    {
      "cell_type": "code",
      "metadata": {
        "id": "WtAKTe7SrL0U",
        "colab_type": "code",
        "colab": {
          "base_uri": "https://localhost:8080/",
          "height": 288
        },
        "outputId": "b4433e75-227f-4207-9463-a2d955da9eac"
      },
      "source": [
        "time_taken['avg'] = abs(time_taken['time_a'] - time_taken['time_q'])\n",
        "time_taken.head()"
      ],
      "execution_count": 79,
      "outputs": [
        {
          "output_type": "stream",
          "text": [
            "/usr/local/lib/python2.7/dist-packages/ipykernel_launcher.py:1: SettingWithCopyWarning: \n",
            "A value is trying to be set on a copy of a slice from a DataFrame.\n",
            "Try using .loc[row_indexer,col_indexer] = value instead\n",
            "\n",
            "See the caveats in the documentation: http://pandas.pydata.org/pandas-docs/stable/indexing.html#indexing-view-versus-copy\n",
            "  \"\"\"Entry point for launching an IPython kernel.\n"
          ],
          "name": "stderr"
        },
        {
          "output_type": "execute_result",
          "data": {
            "text/html": [
              "<div>\n",
              "<style scoped>\n",
              "    .dataframe tbody tr th:only-of-type {\n",
              "        vertical-align: middle;\n",
              "    }\n",
              "\n",
              "    .dataframe tbody tr th {\n",
              "        vertical-align: top;\n",
              "    }\n",
              "\n",
              "    .dataframe thead th {\n",
              "        text-align: right;\n",
              "    }\n",
              "</style>\n",
              "<table border=\"1\" class=\"dataframe\">\n",
              "  <thead>\n",
              "    <tr style=\"text-align: right;\">\n",
              "      <th></th>\n",
              "      <th>time_q</th>\n",
              "      <th>time_a</th>\n",
              "      <th>avg</th>\n",
              "    </tr>\n",
              "  </thead>\n",
              "  <tbody>\n",
              "    <tr>\n",
              "      <th>0</th>\n",
              "      <td>1235000081</td>\n",
              "      <td>1235000501</td>\n",
              "      <td>420</td>\n",
              "    </tr>\n",
              "    <tr>\n",
              "      <th>1</th>\n",
              "      <td>1235000081</td>\n",
              "      <td>1235000551</td>\n",
              "      <td>470</td>\n",
              "    </tr>\n",
              "    <tr>\n",
              "      <th>2</th>\n",
              "      <td>1235000140</td>\n",
              "      <td>1235000177</td>\n",
              "      <td>37</td>\n",
              "    </tr>\n",
              "    <tr>\n",
              "      <th>3</th>\n",
              "      <td>1235000140</td>\n",
              "      <td>1235001545</td>\n",
              "      <td>1405</td>\n",
              "    </tr>\n",
              "    <tr>\n",
              "      <th>4</th>\n",
              "      <td>1235000140</td>\n",
              "      <td>1235002457</td>\n",
              "      <td>2317</td>\n",
              "    </tr>\n",
              "  </tbody>\n",
              "</table>\n",
              "</div>"
            ],
            "text/plain": [
              "       time_q      time_a   avg\n",
              "0  1235000081  1235000501   420\n",
              "1  1235000081  1235000551   470\n",
              "2  1235000140  1235000177    37\n",
              "3  1235000140  1235001545  1405\n",
              "4  1235000140  1235002457  2317"
            ]
          },
          "metadata": {
            "tags": []
          },
          "execution_count": 79
        }
      ]
    },
    {
      "cell_type": "code",
      "metadata": {
        "id": "nCMdnzaVrZjY",
        "colab_type": "code",
        "colab": {
          "base_uri": "https://localhost:8080/",
          "height": 33
        },
        "outputId": "559cc54f-497a-4b0b-d065-f2e9ab97a1e4"
      },
      "source": [
        "print \"Average Time Taken to Answer a Question in seconds: \", np.average(time_taken['avg'])"
      ],
      "execution_count": 82,
      "outputs": [
        {
          "output_type": "stream",
          "text": [
            "Average Time Taken to Answer a Question in seconds:  133799.71295059574\n"
          ],
          "name": "stdout"
        }
      ]
    },
    {
      "cell_type": "markdown",
      "metadata": {
        "id": "PT4JOdaFr0xz",
        "colab_type": "text"
      },
      "source": [
        "## 4.Numbers of views related to the number of Answers."
      ]
    },
    {
      "cell_type": "code",
      "metadata": {
        "id": "z43d5qYQr3pb",
        "colab_type": "code",
        "colab": {
          "base_uri": "https://localhost:8080/",
          "height": 191
        },
        "outputId": "f09b9a7c-ee10-4677-f368-4286e7d1a52e"
      },
      "source": [
        "views = df[['views_q', 'answers']].drop_duplicates()\n",
        "views.reset_index(drop=True)\n",
        "views.head()"
      ],
      "execution_count": 84,
      "outputs": [
        {
          "output_type": "execute_result",
          "data": {
            "text/html": [
              "<div>\n",
              "<style scoped>\n",
              "    .dataframe tbody tr th:only-of-type {\n",
              "        vertical-align: middle;\n",
              "    }\n",
              "\n",
              "    .dataframe tbody tr th {\n",
              "        vertical-align: top;\n",
              "    }\n",
              "\n",
              "    .dataframe thead th {\n",
              "        text-align: right;\n",
              "    }\n",
              "</style>\n",
              "<table border=\"1\" class=\"dataframe\">\n",
              "  <thead>\n",
              "    <tr style=\"text-align: right;\">\n",
              "      <th></th>\n",
              "      <th>views_q</th>\n",
              "      <th>answers</th>\n",
              "    </tr>\n",
              "  </thead>\n",
              "  <tbody>\n",
              "    <tr>\n",
              "      <th>0</th>\n",
              "      <td>220</td>\n",
              "      <td>2</td>\n",
              "    </tr>\n",
              "    <tr>\n",
              "      <th>2</th>\n",
              "      <td>1047</td>\n",
              "      <td>16</td>\n",
              "    </tr>\n",
              "    <tr>\n",
              "      <th>18</th>\n",
              "      <td>108</td>\n",
              "      <td>3</td>\n",
              "    </tr>\n",
              "    <tr>\n",
              "      <th>21</th>\n",
              "      <td>179</td>\n",
              "      <td>1</td>\n",
              "    </tr>\n",
              "    <tr>\n",
              "      <th>22</th>\n",
              "      <td>247</td>\n",
              "      <td>2</td>\n",
              "    </tr>\n",
              "  </tbody>\n",
              "</table>\n",
              "</div>"
            ],
            "text/plain": [
              "    views_q  answers\n",
              "0       220        2\n",
              "2      1047       16\n",
              "18      108        3\n",
              "21      179        1\n",
              "22      247        2"
            ]
          },
          "metadata": {
            "tags": []
          },
          "execution_count": 84
        }
      ]
    },
    {
      "cell_type": "code",
      "metadata": {
        "id": "4Zy05MiCsF8b",
        "colab_type": "code",
        "colab": {
          "base_uri": "https://localhost:8080/",
          "height": 277
        },
        "outputId": "fa91306c-dc50-4352-ae38-552bba9dd40c"
      },
      "source": [
        "\n",
        "views.describe()"
      ],
      "execution_count": 85,
      "outputs": [
        {
          "output_type": "execute_result",
          "data": {
            "text/html": [
              "<div>\n",
              "<style scoped>\n",
              "    .dataframe tbody tr th:only-of-type {\n",
              "        vertical-align: middle;\n",
              "    }\n",
              "\n",
              "    .dataframe tbody tr th {\n",
              "        vertical-align: top;\n",
              "    }\n",
              "\n",
              "    .dataframe thead th {\n",
              "        text-align: right;\n",
              "    }\n",
              "</style>\n",
              "<table border=\"1\" class=\"dataframe\">\n",
              "  <thead>\n",
              "    <tr style=\"text-align: right;\">\n",
              "      <th></th>\n",
              "      <th>views_q</th>\n",
              "      <th>answers</th>\n",
              "    </tr>\n",
              "  </thead>\n",
              "  <tbody>\n",
              "    <tr>\n",
              "      <th>count</th>\n",
              "      <td>6956.000000</td>\n",
              "      <td>6956.000000</td>\n",
              "    </tr>\n",
              "    <tr>\n",
              "      <th>mean</th>\n",
              "      <td>450.220529</td>\n",
              "      <td>7.387435</td>\n",
              "    </tr>\n",
              "    <tr>\n",
              "      <th>std</th>\n",
              "      <td>630.022015</td>\n",
              "      <td>7.103273</td>\n",
              "    </tr>\n",
              "    <tr>\n",
              "      <th>min</th>\n",
              "      <td>3.000000</td>\n",
              "      <td>1.000000</td>\n",
              "    </tr>\n",
              "    <tr>\n",
              "      <th>25%</th>\n",
              "      <td>207.750000</td>\n",
              "      <td>3.000000</td>\n",
              "    </tr>\n",
              "    <tr>\n",
              "      <th>50%</th>\n",
              "      <td>353.500000</td>\n",
              "      <td>6.000000</td>\n",
              "    </tr>\n",
              "    <tr>\n",
              "      <th>75%</th>\n",
              "      <td>534.000000</td>\n",
              "      <td>10.000000</td>\n",
              "    </tr>\n",
              "    <tr>\n",
              "      <th>max</th>\n",
              "      <td>19378.000000</td>\n",
              "      <td>176.000000</td>\n",
              "    </tr>\n",
              "  </tbody>\n",
              "</table>\n",
              "</div>"
            ],
            "text/plain": [
              "            views_q      answers\n",
              "count   6956.000000  6956.000000\n",
              "mean     450.220529     7.387435\n",
              "std      630.022015     7.103273\n",
              "min        3.000000     1.000000\n",
              "25%      207.750000     3.000000\n",
              "50%      353.500000     6.000000\n",
              "75%      534.000000    10.000000\n",
              "max    19378.000000   176.000000"
            ]
          },
          "metadata": {
            "tags": []
          },
          "execution_count": 85
        }
      ]
    },
    {
      "cell_type": "markdown",
      "metadata": {
        "id": "zGQlU_9FshH4",
        "colab_type": "text"
      },
      "source": [
        "From the following table we can say that \n",
        "\n",
        "One queston took minimum of 3 views to obtain 1 answer\n",
        "\n",
        "25% of question took 207 views to obtain 3 answer.\n",
        "\n",
        "Similarily for other 50% and 75%\n",
        "\n",
        "And a maximum one question took 19378 views to obtain 176 answers."
      ]
    },
    {
      "cell_type": "markdown",
      "metadata": {
        "id": "-vYkcHf5tcFb",
        "colab_type": "text"
      },
      "source": [
        "## 5. Tags get highest/lowest rating in Questions."
      ]
    },
    {
      "cell_type": "code",
      "metadata": {
        "id": "KqhkBGnFsR38",
        "colab_type": "code",
        "colab": {
          "base_uri": "https://localhost:8080/",
          "height": 191
        },
        "outputId": "f59f3b64-4b08-4b05-db75-a1dd88fd6c65"
      },
      "source": [
        "tag_rating = df[['tags', 'score_q']].drop_duplicates()\n",
        "tag_rating.reset_index(drop=True)\n",
        "tag_rating.head()"
      ],
      "execution_count": 103,
      "outputs": [
        {
          "output_type": "execute_result",
          "data": {
            "text/html": [
              "<div>\n",
              "<style scoped>\n",
              "    .dataframe tbody tr th:only-of-type {\n",
              "        vertical-align: middle;\n",
              "    }\n",
              "\n",
              "    .dataframe tbody tr th {\n",
              "        vertical-align: top;\n",
              "    }\n",
              "\n",
              "    .dataframe thead th {\n",
              "        text-align: right;\n",
              "    }\n",
              "</style>\n",
              "<table border=\"1\" class=\"dataframe\">\n",
              "  <thead>\n",
              "    <tr style=\"text-align: right;\">\n",
              "      <th></th>\n",
              "      <th>tags</th>\n",
              "      <th>score_q</th>\n",
              "    </tr>\n",
              "  </thead>\n",
              "  <tbody>\n",
              "    <tr>\n",
              "      <th>0</th>\n",
              "      <td>php,error,gd,image-processing</td>\n",
              "      <td>0</td>\n",
              "    </tr>\n",
              "    <tr>\n",
              "      <th>2</th>\n",
              "      <td>lisp,scheme,subjective,clojure</td>\n",
              "      <td>10</td>\n",
              "    </tr>\n",
              "    <tr>\n",
              "      <th>18</th>\n",
              "      <td>cocoa-touch,objective-c,design-patterns</td>\n",
              "      <td>0</td>\n",
              "    </tr>\n",
              "    <tr>\n",
              "      <th>21</th>\n",
              "      <td>core-animation</td>\n",
              "      <td>0</td>\n",
              "    </tr>\n",
              "    <tr>\n",
              "      <th>22</th>\n",
              "      <td>django,django-models</td>\n",
              "      <td>0</td>\n",
              "    </tr>\n",
              "  </tbody>\n",
              "</table>\n",
              "</div>"
            ],
            "text/plain": [
              "                                       tags  score_q\n",
              "0             php,error,gd,image-processing        0\n",
              "2            lisp,scheme,subjective,clojure       10\n",
              "18  cocoa-touch,objective-c,design-patterns        0\n",
              "21                           core-animation        0\n",
              "22                     django,django-models        0"
            ]
          },
          "metadata": {
            "tags": []
          },
          "execution_count": 103
        }
      ]
    },
    {
      "cell_type": "code",
      "metadata": {
        "id": "avTtaVcjubFn",
        "colab_type": "code",
        "colab": {
          "base_uri": "https://localhost:8080/",
          "height": 212
        },
        "outputId": "44a700b4-7bb3-484c-a928-68460cb6ccc8"
      },
      "source": [
        "highest_rating = df.loc[df['score_q'].idxmax()]\n",
        "highest_rating"
      ],
      "execution_count": 107,
      "outputs": [
        {
          "output_type": "execute_result",
          "data": {
            "text/plain": [
              "question_id                                    784461\n",
              "userID_q                                        72162\n",
              "score_q                                           203\n",
              "time_q                                     1240545634\n",
              "tags           subjective,best-practices,productivity\n",
              "views_q                                          7049\n",
              "answers                                           102\n",
              "answer_id                                      784465\n",
              "userID_a                                         4249\n",
              "score_a                                            22\n",
              "time_a                                     1240545754\n",
              "Name: 150035, dtype: object"
            ]
          },
          "metadata": {
            "tags": []
          },
          "execution_count": 107
        }
      ]
    },
    {
      "cell_type": "markdown",
      "metadata": {
        "id": "Tys8ZhVAx3R3",
        "colab_type": "text"
      },
      "source": [
        "### Highest rating in Question -- (question_id -- subjective,best-practices,productivity)\n",
        "### Highest rating in Answer -- (answers -- 102)"
      ]
    },
    {
      "cell_type": "code",
      "metadata": {
        "id": "mhny3sPpxe0_",
        "colab_type": "code",
        "colab": {
          "base_uri": "https://localhost:8080/",
          "height": 212
        },
        "outputId": "4b64eeb4-5b4b-4b19-8246-2904d062d1f2"
      },
      "source": [
        "lowest_rating = df.loc[df['score_q'].idxmin()]\n",
        "lowest_rating"
      ],
      "execution_count": 109,
      "outputs": [
        {
          "output_type": "execute_result",
          "data": {
            "text/plain": [
              "question_id                         566010\n",
              "userID_q                             43371\n",
              "score_q                                -32\n",
              "time_q                          1235059661\n",
              "tags           microsoft,theory,subjective\n",
              "views_q                                384\n",
              "answers                                  3\n",
              "answer_id                           566020\n",
              "userID_a                              8435\n",
              "score_a                                  7\n",
              "time_a                          1235059817\n",
              "Name: 1828, dtype: object"
            ]
          },
          "metadata": {
            "tags": []
          },
          "execution_count": 109
        }
      ]
    },
    {
      "cell_type": "markdown",
      "metadata": {
        "id": "sOLMZa8syY5y",
        "colab_type": "text"
      },
      "source": [
        "### Lowest rating in Question -- (question_id -- microsoft,theory,subjective)\n",
        "### Lowest rating in Answer -- (answers -- 3)"
      ]
    },
    {
      "cell_type": "markdown",
      "metadata": {
        "id": "8RV3d69xylC7",
        "colab_type": "text"
      },
      "source": [
        "## 6. Most Active/Inactive in answering the questions."
      ]
    },
    {
      "cell_type": "code",
      "metadata": {
        "id": "5U35ROL50XGy",
        "colab_type": "code",
        "colab": {
          "base_uri": "https://localhost:8080/",
          "height": 191
        },
        "outputId": "73d062e3-c86b-4be0-d96e-8e979ee7d072"
      },
      "source": [
        "tag_rating = df[['tags', 'time_q', 'time_a']].drop_duplicates().reset_index(drop=True)\n",
        "tag_rating['diff'] = abs(tag_rating['time_q'] - tag_rating['time_a'])\n",
        "tag_rating.head()"
      ],
      "execution_count": 133,
      "outputs": [
        {
          "output_type": "execute_result",
          "data": {
            "text/html": [
              "<div>\n",
              "<style scoped>\n",
              "    .dataframe tbody tr th:only-of-type {\n",
              "        vertical-align: middle;\n",
              "    }\n",
              "\n",
              "    .dataframe tbody tr th {\n",
              "        vertical-align: top;\n",
              "    }\n",
              "\n",
              "    .dataframe thead th {\n",
              "        text-align: right;\n",
              "    }\n",
              "</style>\n",
              "<table border=\"1\" class=\"dataframe\">\n",
              "  <thead>\n",
              "    <tr style=\"text-align: right;\">\n",
              "      <th></th>\n",
              "      <th>tags</th>\n",
              "      <th>time_q</th>\n",
              "      <th>time_a</th>\n",
              "      <th>diff</th>\n",
              "    </tr>\n",
              "  </thead>\n",
              "  <tbody>\n",
              "    <tr>\n",
              "      <th>0</th>\n",
              "      <td>php,error,gd,image-processing</td>\n",
              "      <td>1235000081</td>\n",
              "      <td>1235000501</td>\n",
              "      <td>420</td>\n",
              "    </tr>\n",
              "    <tr>\n",
              "      <th>1</th>\n",
              "      <td>php,error,gd,image-processing</td>\n",
              "      <td>1235000081</td>\n",
              "      <td>1235000551</td>\n",
              "      <td>470</td>\n",
              "    </tr>\n",
              "    <tr>\n",
              "      <th>2</th>\n",
              "      <td>lisp,scheme,subjective,clojure</td>\n",
              "      <td>1235000140</td>\n",
              "      <td>1235000177</td>\n",
              "      <td>37</td>\n",
              "    </tr>\n",
              "    <tr>\n",
              "      <th>3</th>\n",
              "      <td>lisp,scheme,subjective,clojure</td>\n",
              "      <td>1235000140</td>\n",
              "      <td>1235001545</td>\n",
              "      <td>1405</td>\n",
              "    </tr>\n",
              "    <tr>\n",
              "      <th>4</th>\n",
              "      <td>lisp,scheme,subjective,clojure</td>\n",
              "      <td>1235000140</td>\n",
              "      <td>1235002457</td>\n",
              "      <td>2317</td>\n",
              "    </tr>\n",
              "  </tbody>\n",
              "</table>\n",
              "</div>"
            ],
            "text/plain": [
              "                             tags      time_q      time_a  diff\n",
              "0   php,error,gd,image-processing  1235000081  1235000501   420\n",
              "1   php,error,gd,image-processing  1235000081  1235000551   470\n",
              "2  lisp,scheme,subjective,clojure  1235000140  1235000177    37\n",
              "3  lisp,scheme,subjective,clojure  1235000140  1235001545  1405\n",
              "4  lisp,scheme,subjective,clojure  1235000140  1235002457  2317"
            ]
          },
          "metadata": {
            "tags": []
          },
          "execution_count": 133
        }
      ]
    },
    {
      "cell_type": "code",
      "metadata": {
        "id": "7_bOfm5v1mhR",
        "colab_type": "code",
        "colab": {
          "base_uri": "https://localhost:8080/",
          "height": 33
        },
        "outputId": "23538c44-8852-499c-e2ef-005ab18895f6"
      },
      "source": [
        "from tqdm import tqdm_notebook\n",
        "Rate = {}\n",
        "for i in tqdm_notebook(range(len(tag_rating['tags']))):\n",
        "    for tag in tag_rating['tags'][i].split(','):\n",
        "        try:\n",
        "            Rate[tag].append(tag_rating['diff'][i])\n",
        "        except Exception:\n",
        "            Rate[tag] = [tag_rating['diff'][i]]"
      ],
      "execution_count": 134,
      "outputs": [
        {
          "output_type": "display_data",
          "data": {
            "application/vnd.jupyter.widget-view+json": {
              "model_id": "b79cb8f8bb6347a998c1b6528bd3b2cf",
              "version_minor": 0,
              "version_major": 2
            },
            "text/plain": [
              "HBox(children=(IntProgress(value=0, max=263236), HTML(value=u'')))"
            ]
          },
          "metadata": {
            "tags": []
          }
        },
        {
          "output_type": "stream",
          "text": [
            "\n"
          ],
          "name": "stdout"
        }
      ]
    },
    {
      "cell_type": "code",
      "metadata": {
        "id": "MPnNLj4X1ttT",
        "colab_type": "code",
        "colab": {}
      },
      "source": [
        "tag_rateAvg = {}\n",
        "for key in list(Rate.keys()):\n",
        "    tag_rateAvg[key] = np.average(Rate[key])"
      ],
      "execution_count": 0,
      "outputs": []
    },
    {
      "cell_type": "code",
      "metadata": {
        "id": "-HGALbp_2ThU",
        "colab_type": "code",
        "colab": {}
      },
      "source": [
        "tag_rateAvg = pd.DataFrame([list(tag_rateAvg.keys()), list(tag_rateAvg.values())])\n",
        "tag_rateAvg = tag_rateAvg.transpose()\n",
        "tag_rateAvg.columns = ['tags', 'diff']\n",
        "tag_rateAvg = tag_rateAvg.sort_values('diff')"
      ],
      "execution_count": 0,
      "outputs": []
    },
    {
      "cell_type": "code",
      "metadata": {
        "id": "oHFZExaZ2diu",
        "colab_type": "code",
        "colab": {
          "base_uri": "https://localhost:8080/",
          "height": 295
        },
        "outputId": "0565757a-ab46-422d-b01a-f3eb76e92f9f"
      },
      "source": [
        "plt.barh(list(tag_rateAvg['tags'])[:10], list(tag_rateAvg['diff'])[:10])\n",
        "plt.xlabel('Average Time taken to Answer')\n",
        "plt.ylabel('Tag List')\n",
        "plt.title('Top-10 Most Active in answering')\n",
        "plt.show()"
      ],
      "execution_count": 137,
      "outputs": [
        {
          "output_type": "display_data",
          "data": {
            "image/png": "[encoded data removed]",
            "text/plain": [
              "<Figure size 432x288 with 1 Axes>"
            ]
          },
          "metadata": {
            "tags": []
          }
        }
      ]
    },
    {
      "cell_type": "code",
      "metadata": {
        "id": "hhmBj2_N2zRq",
        "colab_type": "code",
        "colab": {
          "base_uri": "https://localhost:8080/",
          "height": 311
        },
        "outputId": "b0d3d315-96c7-4a97-b484-3d4beec3847b"
      },
      "source": [
        "\n",
        "plt.barh(list(tag_rateAvg['tags'])[-10:], list(tag_rateAvg['diff'])[-10:])\n",
        "plt.xlabel('Average Time taken to Answer')\n",
        "plt.ylabel('Tag List')\n",
        "plt.title('Top-10 Most Inactive')"
      ],
      "execution_count": 138,
      "outputs": [
        {
          "output_type": "execute_result",
          "data": {
            "text/plain": [
              "Text(0.5,1,'Top-10 Most Inactive')"
            ]
          },
          "metadata": {
            "tags": []
          },
          "execution_count": 138
        },
        {
          "output_type": "display_data",
          "data": {
            "image/png": "[encoded data removed]",
            "text/plain": [
              "<Figure size 432x288 with 1 Axes>"
            ]
          },
          "metadata": {
            "tags": []
          }
        }
      ]
    },
    {
      "cell_type": "markdown",
      "metadata": {
        "id": "GOF6flo43XpJ",
        "colab_type": "text"
      },
      "source": [
        "## 8. Which tags draws the highest/lowest views?"
      ]
    },
    {
      "cell_type": "code",
      "metadata": {
        "id": "PUK0CCLX3EIa",
        "colab_type": "code",
        "colab": {
          "base_uri": "https://localhost:8080/",
          "height": 191
        },
        "outputId": "8ac1b93e-329f-41cb-bc60-9e0368a69ba1"
      },
      "source": [
        "\n",
        "tag_views = df[['tags', 'views_q']].drop_duplicates().reset_index(drop=True)\n",
        "tag_views.head()"
      ],
      "execution_count": 141,
      "outputs": [
        {
          "output_type": "execute_result",
          "data": {
            "text/html": [
              "<div>\n",
              "<style scoped>\n",
              "    .dataframe tbody tr th:only-of-type {\n",
              "        vertical-align: middle;\n",
              "    }\n",
              "\n",
              "    .dataframe tbody tr th {\n",
              "        vertical-align: top;\n",
              "    }\n",
              "\n",
              "    .dataframe thead th {\n",
              "        text-align: right;\n",
              "    }\n",
              "</style>\n",
              "<table border=\"1\" class=\"dataframe\">\n",
              "  <thead>\n",
              "    <tr style=\"text-align: right;\">\n",
              "      <th></th>\n",
              "      <th>tags</th>\n",
              "      <th>views_q</th>\n",
              "    </tr>\n",
              "  </thead>\n",
              "  <tbody>\n",
              "    <tr>\n",
              "      <th>0</th>\n",
              "      <td>php,error,gd,image-processing</td>\n",
              "      <td>220</td>\n",
              "    </tr>\n",
              "    <tr>\n",
              "      <th>1</th>\n",
              "      <td>lisp,scheme,subjective,clojure</td>\n",
              "      <td>1047</td>\n",
              "    </tr>\n",
              "    <tr>\n",
              "      <th>2</th>\n",
              "      <td>cocoa-touch,objective-c,design-patterns</td>\n",
              "      <td>108</td>\n",
              "    </tr>\n",
              "    <tr>\n",
              "      <th>3</th>\n",
              "      <td>core-animation</td>\n",
              "      <td>179</td>\n",
              "    </tr>\n",
              "    <tr>\n",
              "      <th>4</th>\n",
              "      <td>django,django-models</td>\n",
              "      <td>247</td>\n",
              "    </tr>\n",
              "  </tbody>\n",
              "</table>\n",
              "</div>"
            ],
            "text/plain": [
              "                                      tags  views_q\n",
              "0            php,error,gd,image-processing      220\n",
              "1           lisp,scheme,subjective,clojure     1047\n",
              "2  cocoa-touch,objective-c,design-patterns      108\n",
              "3                           core-animation      179\n",
              "4                     django,django-models      247"
            ]
          },
          "metadata": {
            "tags": []
          },
          "execution_count": 141
        }
      ]
    },
    {
      "cell_type": "code",
      "metadata": {
        "id": "IwJyONg-3dlE",
        "colab_type": "code",
        "colab": {
          "base_uri": "https://localhost:8080/",
          "height": 33
        },
        "outputId": "4c11a80b-24a8-41e1-bb7a-7c3e4e4b098d"
      },
      "source": [
        "View = {}\n",
        "for i in tqdm_notebook(range(len(tag_views['tags']))):\n",
        "    for tag in tag_views['tags'][i].split(','):\n",
        "        try:\n",
        "            View[tag].append(tag_views['views_q'][i])\n",
        "        except Exception:\n",
        "            View[tag] = [tag_views['views_q'][i]]"
      ],
      "execution_count": 142,
      "outputs": [
        {
          "output_type": "display_data",
          "data": {
            "application/vnd.jupyter.widget-view+json": {
              "model_id": "d9859239d2ef483c93114ef8fb9a6e87",
              "version_minor": 0,
              "version_major": 2
            },
            "text/plain": [
              "HBox(children=(IntProgress(value=0, max=81211), HTML(value=u'')))"
            ]
          },
          "metadata": {
            "tags": []
          }
        },
        {
          "output_type": "stream",
          "text": [
            "\n"
          ],
          "name": "stdout"
        }
      ]
    },
    {
      "cell_type": "code",
      "metadata": {
        "id": "eCYC3-yQ3o4X",
        "colab_type": "code",
        "colab": {}
      },
      "source": [
        "tag_viewAvg = {}\n",
        "for key in list(View.keys()):\n",
        "    tag_viewAvg[key] = np.average(View[key])"
      ],
      "execution_count": 0,
      "outputs": []
    },
    {
      "cell_type": "code",
      "metadata": {
        "id": "b_iSOPYA3yeZ",
        "colab_type": "code",
        "colab": {}
      },
      "source": [
        "tag_viewAvg = pd.DataFrame([list(tag_viewAvg.keys()), list(tag_viewAvg.values())])\n",
        "tag_viewAvg = tag_viewAvg.transpose()\n",
        "tag_viewAvg.columns = ['tags', 'views']\n",
        "tag_viewAvg = tag_viewAvg.sort_values('views')"
      ],
      "execution_count": 0,
      "outputs": []
    },
    {
      "cell_type": "code",
      "metadata": {
        "id": "6YyDk4-J36SO",
        "colab_type": "code",
        "colab": {
          "base_uri": "https://localhost:8080/",
          "height": 295
        },
        "outputId": "58aef4b4-90a8-4d24-fb2a-d08366f5bf97"
      },
      "source": [
        "plt.barh(list(tag_viewAvg['tags'])[:10], list(tag_viewAvg['views'])[:10])\n",
        "plt.xlabel('Average number of Views')\n",
        "plt.ylabel('Tag List')\n",
        "plt.title('10 - Least Popular Tags')\n",
        "plt.show()"
      ],
      "execution_count": 145,
      "outputs": [
        {
          "output_type": "display_data",
          "data": {
            "image/png": "[encoded data removed]",
            "text/plain": [
              "<Figure size 432x288 with 1 Axes>"
            ]
          },
          "metadata": {
            "tags": []
          }
        }
      ]
    },
    {
      "cell_type": "code",
      "metadata": {
        "id": "N7Fwj5cH4E95",
        "colab_type": "code",
        "colab": {
          "base_uri": "https://localhost:8080/",
          "height": 295
        },
        "outputId": "96d12ef4-d558-42c0-fb0a-3c10dc871b7f"
      },
      "source": [
        "plt.barh(list(tag_viewAvg['tags'])[-10:], list(tag_viewAvg['views'])[-10:])\n",
        "plt.xlabel('Average number of Views')\n",
        "plt.ylabel('Tag List')\n",
        "plt.title('10 - Most Popular Tags')\n",
        "plt.show()"
      ],
      "execution_count": 146,
      "outputs": [
        {
          "output_type": "display_data",
          "data": {
            "image/png": "[encoded data removed]",
            "text/plain": [
              "<Figure size 432x288 with 1 Axes>"
            ]
          },
          "metadata": {
            "tags": []
          }
        }
      ]
    },
    {
      "cell_type": "code",
      "metadata": {
        "id": "60QXUR2Z4UYO",
        "colab_type": "code",
        "colab": {}
      },
      "source": [
        ""
      ],
      "execution_count": 0,
      "outputs": []
    }
  ]
}